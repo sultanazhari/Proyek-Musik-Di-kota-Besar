{
 "cells": [
  {
   "cell_type": "markdown",
   "metadata": {
    "id": "E0vqbgi9ay0H"
   },
   "source": [
    "# Y.Music"
   ]
  },
  {
   "cell_type": "markdown",
   "metadata": {
    "id": "fhq_eyov_Zcs"
   },
   "source": [
    "# Konten <a id='back'></a>\n",
    "\n",
    "* [Pendahuluan](#intro)\n",
    "* [Tahap 1. Ikhtisar Data](#data_review)\n",
    "    * [Kesimpulan](#data_review_conclusions)\n",
    "* [Tahap 2. Pra-pemrosesan Data](#data_preprocessing)\n",
    "    * [2.1 Gaya penulisan judul](#header_style)\n",
    "    * [2.2 Nilai-nilai yang hilang](#missing_values)\n",
    "    * [2.3 Duplikat](#duplicates)\n",
    "    * [2.4 Kesimpulan](#data_preprocessing_conclusions)\n",
    "* [Tahap 3. Menguji Hipotesis](#hypotheses)\n",
    "    * [3.1 Hipotesis 1: aktivitas pengguna di dua kota](#activity)\n",
    "    * [3.2 Hipotesis 2: preferensi musik pada hari Senin dan Jumat](#week)\n",
    "    * [3.3 Hipotesis 3: preferensi genre di kota Springfield dan Shelbyville](#genre)\n",
    "* [Temuan](#end)"
   ]
  },
  {
   "cell_type": "markdown",
   "metadata": {
    "id": "VUC88oWjTJw2"
   },
   "source": [
    "## Pendahuluan <a id='intro'></a>\n",
    "Setiap kali kita melakukan penelitian, kita perlu merumuskan hipotesis yang kemudian dapat kita uji. Terkadang kita menerima hipotesis ini; tetapi terkadang kita juga menolaknya. Untuk membuat keputusan yang tepat, sebuah bisnis harus dapat memahami apakah asumsi yang dibuatnya benar atau tidak.\n",
    "\n",
    "Dalam proyek kali ini, Anda akan membandingkan preferensi musik kota Springfield dan Shelbyville. Anda akan mempelajari data Y.Music yang sebenarnya untuk menguji hipotesis di bawah ini dan membandingkan perilaku pengguna di kedua kota ini.\n",
    "\n",
    "### Tujuan: \n",
    "Menguji tiga hipotesis:\n",
    "1. Aktivitas pengguna berbeda-beda tergantung pada hari dan kotanya.\n",
    "2. Pada senin pagi, penduduk Springfield dan Shelbyville mendengarkan genre yang berbeda. Hal ini juga ini juga berlaku untuk Jumat malam.\n",
    "3. Pendengar di Springfield dan Shelbyville memiliki preferensi yang berbeda. Di Springfield, mereka lebih suka musik pop, sementara Shelbyville, musik rap memiliki lebih banyak penggemar.\n",
    "\n",
    "### Tahapan\n",
    "Data tentang perilaku pengguna disimpan dalam berkas `/datasets/music_project_en.csv`. Tidak ada informasi tentang kualitas data, jadi Anda perlu memeriksanya lebih dahulu sebelum menguji hipotesis.\n",
    "\n",
    "Pertama, Anda akan mengevaluasi kualitas data dan melihat apakah masalahnya signifikan. Kemudian, selama pra-pemrosesan data, Anda akan mencoba memperhitungkan masalah yang paling serius.\n",
    " \n",
    "Proyek ini akan terdiri dari tiga tahap:\n",
    " 1. Ikhtisar Data\n",
    " 2. Pra-pemrosesan Data\n",
    " 3. Menguji Hipotesis\n",
    "\n",
    " \n",
    "[Kembali ke Daftar Isi](#back)"
   ]
  },
  {
   "cell_type": "markdown",
   "metadata": {
    "id": "Ml1hmfXC_Zcs"
   },
   "source": [
    "## Tahap 1. Ikhtisar Data <a id='data_review'></a>\n",
    "\n",
    "Buka data di Y.Music lalu jelajahi data yang ada di sana."
   ]
  },
  {
   "cell_type": "markdown",
   "metadata": {
    "id": "57eAOGIz_Zcs"
   },
   "source": [
    "Anda akan membutuhkan `Pandas`, jadi Anda harus mengimpornya."
   ]
  },
  {
   "cell_type": "code",
   "execution_count": 2,
   "metadata": {
    "id": "AXN7PHPN_Zcs"
   },
   "outputs": [],
   "source": [
    "import pandas as pd\n",
    "\n",
    "df = pd.read_csv('data/music_project_en .csv')"
   ]
  },
  {
   "cell_type": "markdown",
   "metadata": {
    "id": "SG23P8tt_Zcs"
   },
   "source": [
    "Baca file `music_project_en.csv` dari folder `/datasets/` lalu simpan di variabel `df`:"
   ]
  },
  {
   "cell_type": "code",
   "execution_count": 3,
   "metadata": {
    "id": "fFVu7vqh_Zct",
    "scrolled": true
   },
   "outputs": [
    {
     "data": {
      "text/html": [
       "<div>\n",
       "<style scoped>\n",
       "    .dataframe tbody tr th:only-of-type {\n",
       "        vertical-align: middle;\n",
       "    }\n",
       "\n",
       "    .dataframe tbody tr th {\n",
       "        vertical-align: top;\n",
       "    }\n",
       "\n",
       "    .dataframe thead th {\n",
       "        text-align: right;\n",
       "    }\n",
       "</style>\n",
       "<table border=\"1\" class=\"dataframe\">\n",
       "  <thead>\n",
       "    <tr style=\"text-align: right;\">\n",
       "      <th></th>\n",
       "      <th>userID</th>\n",
       "      <th>Track</th>\n",
       "      <th>artist</th>\n",
       "      <th>genre</th>\n",
       "      <th>City</th>\n",
       "      <th>time</th>\n",
       "      <th>Day</th>\n",
       "    </tr>\n",
       "  </thead>\n",
       "  <tbody>\n",
       "    <tr>\n",
       "      <th>count</th>\n",
       "      <td>65079</td>\n",
       "      <td>63736</td>\n",
       "      <td>57512</td>\n",
       "      <td>63881</td>\n",
       "      <td>65079</td>\n",
       "      <td>65079</td>\n",
       "      <td>65079</td>\n",
       "    </tr>\n",
       "    <tr>\n",
       "      <th>unique</th>\n",
       "      <td>41748</td>\n",
       "      <td>39666</td>\n",
       "      <td>37806</td>\n",
       "      <td>268</td>\n",
       "      <td>2</td>\n",
       "      <td>20392</td>\n",
       "      <td>3</td>\n",
       "    </tr>\n",
       "    <tr>\n",
       "      <th>top</th>\n",
       "      <td>A8AE9169</td>\n",
       "      <td>Brand</td>\n",
       "      <td>Kartvelli</td>\n",
       "      <td>pop</td>\n",
       "      <td>Springfield</td>\n",
       "      <td>08:14:07</td>\n",
       "      <td>Friday</td>\n",
       "    </tr>\n",
       "    <tr>\n",
       "      <th>freq</th>\n",
       "      <td>76</td>\n",
       "      <td>136</td>\n",
       "      <td>136</td>\n",
       "      <td>8850</td>\n",
       "      <td>45360</td>\n",
       "      <td>14</td>\n",
       "      <td>23149</td>\n",
       "    </tr>\n",
       "  </tbody>\n",
       "</table>\n",
       "</div>"
      ],
      "text/plain": [
       "          userID  Track     artist  genre       City        time     Day\n",
       "count      65079  63736      57512  63881        65079     65079   65079\n",
       "unique     41748  39666      37806    268            2     20392       3\n",
       "top     A8AE9169  Brand  Kartvelli    pop  Springfield  08:14:07  Friday\n",
       "freq          76    136        136   8850        45360        14   23149"
      ]
     },
     "execution_count": 3,
     "metadata": {},
     "output_type": "execute_result"
    }
   ],
   "source": [
    "df.describe()"
   ]
  },
  {
   "cell_type": "markdown",
   "metadata": {
    "id": "rDoOMd3uTqnZ"
   },
   "source": [
    "Tampilkan 10 baris tabel pertama:"
   ]
  },
  {
   "cell_type": "code",
   "execution_count": 4,
   "metadata": {
    "id": "oWTVX3gW_Zct",
    "scrolled": true
   },
   "outputs": [
    {
     "data": {
      "text/html": [
       "<div>\n",
       "<style scoped>\n",
       "    .dataframe tbody tr th:only-of-type {\n",
       "        vertical-align: middle;\n",
       "    }\n",
       "\n",
       "    .dataframe tbody tr th {\n",
       "        vertical-align: top;\n",
       "    }\n",
       "\n",
       "    .dataframe thead th {\n",
       "        text-align: right;\n",
       "    }\n",
       "</style>\n",
       "<table border=\"1\" class=\"dataframe\">\n",
       "  <thead>\n",
       "    <tr style=\"text-align: right;\">\n",
       "      <th></th>\n",
       "      <th>userID</th>\n",
       "      <th>Track</th>\n",
       "      <th>artist</th>\n",
       "      <th>genre</th>\n",
       "      <th>City</th>\n",
       "      <th>time</th>\n",
       "      <th>Day</th>\n",
       "    </tr>\n",
       "  </thead>\n",
       "  <tbody>\n",
       "    <tr>\n",
       "      <th>0</th>\n",
       "      <td>FFB692EC</td>\n",
       "      <td>Kamigata To Boots</td>\n",
       "      <td>The Mass Missile</td>\n",
       "      <td>rock</td>\n",
       "      <td>Shelbyville</td>\n",
       "      <td>20:28:33</td>\n",
       "      <td>Wednesday</td>\n",
       "    </tr>\n",
       "    <tr>\n",
       "      <th>1</th>\n",
       "      <td>55204538</td>\n",
       "      <td>Delayed Because of Accident</td>\n",
       "      <td>Andreas Rönnberg</td>\n",
       "      <td>rock</td>\n",
       "      <td>Springfield</td>\n",
       "      <td>14:07:09</td>\n",
       "      <td>Friday</td>\n",
       "    </tr>\n",
       "    <tr>\n",
       "      <th>2</th>\n",
       "      <td>20EC38</td>\n",
       "      <td>Funiculì funiculà</td>\n",
       "      <td>Mario Lanza</td>\n",
       "      <td>pop</td>\n",
       "      <td>Shelbyville</td>\n",
       "      <td>20:58:07</td>\n",
       "      <td>Wednesday</td>\n",
       "    </tr>\n",
       "    <tr>\n",
       "      <th>3</th>\n",
       "      <td>A3DD03C9</td>\n",
       "      <td>Dragons in the Sunset</td>\n",
       "      <td>Fire + Ice</td>\n",
       "      <td>folk</td>\n",
       "      <td>Shelbyville</td>\n",
       "      <td>08:37:09</td>\n",
       "      <td>Monday</td>\n",
       "    </tr>\n",
       "    <tr>\n",
       "      <th>4</th>\n",
       "      <td>E2DC1FAE</td>\n",
       "      <td>Soul People</td>\n",
       "      <td>Space Echo</td>\n",
       "      <td>dance</td>\n",
       "      <td>Springfield</td>\n",
       "      <td>08:34:34</td>\n",
       "      <td>Monday</td>\n",
       "    </tr>\n",
       "    <tr>\n",
       "      <th>5</th>\n",
       "      <td>842029A1</td>\n",
       "      <td>Chains</td>\n",
       "      <td>Obladaet</td>\n",
       "      <td>rusrap</td>\n",
       "      <td>Shelbyville</td>\n",
       "      <td>13:09:41</td>\n",
       "      <td>Friday</td>\n",
       "    </tr>\n",
       "    <tr>\n",
       "      <th>6</th>\n",
       "      <td>4CB90AA5</td>\n",
       "      <td>True</td>\n",
       "      <td>Roman Messer</td>\n",
       "      <td>dance</td>\n",
       "      <td>Springfield</td>\n",
       "      <td>13:00:07</td>\n",
       "      <td>Wednesday</td>\n",
       "    </tr>\n",
       "    <tr>\n",
       "      <th>7</th>\n",
       "      <td>F03E1C1F</td>\n",
       "      <td>Feeling This Way</td>\n",
       "      <td>Polina Griffith</td>\n",
       "      <td>dance</td>\n",
       "      <td>Springfield</td>\n",
       "      <td>20:47:49</td>\n",
       "      <td>Wednesday</td>\n",
       "    </tr>\n",
       "    <tr>\n",
       "      <th>8</th>\n",
       "      <td>8FA1D3BE</td>\n",
       "      <td>L’estate</td>\n",
       "      <td>Julia Dalia</td>\n",
       "      <td>ruspop</td>\n",
       "      <td>Springfield</td>\n",
       "      <td>09:17:40</td>\n",
       "      <td>Friday</td>\n",
       "    </tr>\n",
       "    <tr>\n",
       "      <th>9</th>\n",
       "      <td>E772D5C0</td>\n",
       "      <td>Pessimist</td>\n",
       "      <td>NaN</td>\n",
       "      <td>dance</td>\n",
       "      <td>Shelbyville</td>\n",
       "      <td>21:20:49</td>\n",
       "      <td>Wednesday</td>\n",
       "    </tr>\n",
       "  </tbody>\n",
       "</table>\n",
       "</div>"
      ],
      "text/plain": [
       "     userID                        Track            artist   genre  \\\n",
       "0  FFB692EC            Kamigata To Boots  The Mass Missile    rock   \n",
       "1  55204538  Delayed Because of Accident  Andreas Rönnberg    rock   \n",
       "2    20EC38            Funiculì funiculà       Mario Lanza     pop   \n",
       "3  A3DD03C9        Dragons in the Sunset        Fire + Ice    folk   \n",
       "4  E2DC1FAE                  Soul People        Space Echo   dance   \n",
       "5  842029A1                       Chains          Obladaet  rusrap   \n",
       "6  4CB90AA5                         True      Roman Messer   dance   \n",
       "7  F03E1C1F             Feeling This Way   Polina Griffith   dance   \n",
       "8  8FA1D3BE                     L’estate       Julia Dalia  ruspop   \n",
       "9  E772D5C0                    Pessimist               NaN   dance   \n",
       "\n",
       "        City        time        Day  \n",
       "0  Shelbyville  20:28:33  Wednesday  \n",
       "1  Springfield  14:07:09     Friday  \n",
       "2  Shelbyville  20:58:07  Wednesday  \n",
       "3  Shelbyville  08:37:09     Monday  \n",
       "4  Springfield  08:34:34     Monday  \n",
       "5  Shelbyville  13:09:41     Friday  \n",
       "6  Springfield  13:00:07  Wednesday  \n",
       "7  Springfield  20:47:49  Wednesday  \n",
       "8  Springfield  09:17:40     Friday  \n",
       "9  Shelbyville  21:20:49  Wednesday  "
      ]
     },
     "execution_count": 4,
     "metadata": {},
     "output_type": "execute_result"
    }
   ],
   "source": [
    "df.head(10)"
   ]
  },
  {
   "cell_type": "markdown",
   "metadata": {
    "id": "EO73Kwic_Zct"
   },
   "source": [
    "Memperoleh informasi umum tentang tabel dengan satu perintah:"
   ]
  },
  {
   "cell_type": "code",
   "execution_count": 5,
   "metadata": {
    "id": "DSf2kIb-_Zct"
   },
   "outputs": [
    {
     "name": "stdout",
     "output_type": "stream",
     "text": [
      "<class 'pandas.core.frame.DataFrame'>\n",
      "RangeIndex: 65079 entries, 0 to 65078\n",
      "Data columns (total 7 columns):\n",
      " #   Column    Non-Null Count  Dtype \n",
      "---  ------    --------------  ----- \n",
      " 0     userID  65079 non-null  object\n",
      " 1   Track     63736 non-null  object\n",
      " 2   artist    57512 non-null  object\n",
      " 3   genre     63881 non-null  object\n",
      " 4     City    65079 non-null  object\n",
      " 5   time      65079 non-null  object\n",
      " 6   Day       65079 non-null  object\n",
      "dtypes: object(7)\n",
      "memory usage: 3.5+ MB\n"
     ]
    }
   ],
   "source": [
    "df.info()"
   ]
  },
  {
   "cell_type": "markdown",
   "metadata": {
    "id": "TaQ2Iwbr_Zct"
   },
   "source": [
    "Tabel ini berisi tujuh kolom. Semuanya menyimpan tipe data yang sama, yaitu: `objek`.\n",
    "\n",
    "Berdasarkan dokumentasi:\n",
    "- `'userID'` — pengenal pengguna\n",
    "- `'Track'` — judul trek\n",
    "- `'artist'` — nama artis\n",
    "- `'genre'`\n",
    "- `'City'` — kota tempat pengguna berada\n",
    "- `'time'` — lama waktu lagu tersebut dimainkan\n",
    "- `'Day'` — nama hari\n",
    "\n",
    "Kita dapat melihat tiga masalah dengan gaya penulisan nama kolom:\n",
    "1. Beberapa nama huruf besar, beberapa huruf kecil.\n",
    "2. Ada penggunaan spasi pada beberapa nama.\n",
    "3. Penggunaan nama gabungan yang tidak diberi pemisah 'underscore(_)'.\n",
    "\n",
    "Jumlah nilai kolom berbeda. Ini berarti data mengandung nilai yang hilang.\n"
   ]
  },
  {
   "cell_type": "markdown",
   "metadata": {
    "id": "MCB6-dXG_Zct"
   },
   "source": [
    "### Kesimpulan <a id='data_review_conclusions'></a> \n",
    "\n",
    "Setiap baris dalam tabel menyimpan data pada lagu yang dimainkan. Beberapa kolom menggambarkan lagu itu sendiri: judul, artis, dan genre. Sisanya menyampaikan informasi tentang pengguna: kota asal mereka, waktu mereka memutar lagu.\n",
    "\n",
    "Jelas bahwa data tersebut cukup untuk menguji hipotesis. Namun, ada nilai-nilai yang hilang.\n",
    "\n",
    "Selanjutnya, kita perlu melakukan pra-pemrosesan data terlebih dahulu."
   ]
  },
  {
   "cell_type": "markdown",
   "metadata": {
    "id": "3eL__vcwViOi"
   },
   "source": [
    "[Kembali ke Daftar Isi](#back)"
   ]
  },
  {
   "cell_type": "markdown",
   "metadata": {
    "id": "SjYF6Ub9_Zct"
   },
   "source": [
    "## Tahap 2. Pra-pemrosesan Data <a id='data_preprocessing'></a>\n",
    "Perbaiki format pada judul kolom dan atasi nilai yang hilang. Kemudian, periksa apakah ada duplikat dalam data."
   ]
  },
  {
   "cell_type": "markdown",
   "metadata": {
    "id": "dIaKXr29_Zct"
   },
   "source": [
    "### Gaya Penulisan Judul <a id='header_style'></a>\n",
    "Tampilkan judul kolom:\n"
   ]
  },
  {
   "cell_type": "code",
   "execution_count": 6,
   "metadata": {
    "id": "oKOTdF_Q_Zct"
   },
   "outputs": [
    {
     "data": {
      "text/plain": [
       "Index(['  userID', 'Track', 'artist', 'genre', '  City  ', 'time', 'Day'], dtype='object')"
      ]
     },
     "execution_count": 6,
     "metadata": {},
     "output_type": "execute_result"
    }
   ],
   "source": [
    "df.columns"
   ]
  },
  {
   "cell_type": "markdown",
   "metadata": {
    "id": "zj5534cv_Zct"
   },
   "source": [
    "Ubah nama kolom sesuai dengan aturan gaya penulisan yang baik:\n",
    "* Jika nama memiliki beberapa kata, gunakan snake_case\n",
    "* Semua karakter harus menggunakan huruf kecil\n",
    "* Hapus spasi"
   ]
  },
  {
   "cell_type": "code",
   "execution_count": 7,
   "metadata": {
    "id": "ISlFqs5y_Zct"
   },
   "outputs": [],
   "source": [
    "df = df.rename(columns={'  userID':'user_id', 'Track':'track', '  City  ':'city', 'Day':'day'})"
   ]
  },
  {
   "cell_type": "markdown",
   "metadata": {
    "id": "1dqbh00J_Zct"
   },
   "source": [
    "Periksa hasilnya. Tampilkan nama kolom sekali lagi:"
   ]
  },
  {
   "cell_type": "code",
   "execution_count": 8,
   "metadata": {
    "id": "d4NOAmTW_Zct",
    "scrolled": true
   },
   "outputs": [
    {
     "data": {
      "text/plain": [
       "Index(['user_id', 'track', 'artist', 'genre', 'city', 'time', 'day'], dtype='object')"
      ]
     },
     "execution_count": 8,
     "metadata": {},
     "output_type": "execute_result"
    }
   ],
   "source": [
    "df.columns"
   ]
  },
  {
   "cell_type": "markdown",
   "metadata": {
    "id": "xYJk6ksJVpOl"
   },
   "source": [
    "[Kembali ke Daftar Isi](#back)"
   ]
  },
  {
   "cell_type": "markdown",
   "metadata": {
    "id": "5ISfbcfY_Zct"
   },
   "source": [
    "### Nilai-Nilai yang Hilang <a id='missing_values'></a>\n",
    "Pertama, temukan jumlah nilai yang hilang dalam tabel. Untuk melakukannya, gunakan dua metode `Pandas`:"
   ]
  },
  {
   "cell_type": "code",
   "execution_count": 9,
   "metadata": {
    "id": "RskX29qr_Zct",
    "scrolled": false
   },
   "outputs": [
    {
     "data": {
      "text/plain": [
       "user_id       0\n",
       "track      1343\n",
       "artist     7567\n",
       "genre      1198\n",
       "city          0\n",
       "time          0\n",
       "day           0\n",
       "dtype: int64"
      ]
     },
     "execution_count": 9,
     "metadata": {},
     "output_type": "execute_result"
    }
   ],
   "source": [
    "df.isna().sum()"
   ]
  },
  {
   "cell_type": "markdown",
   "metadata": {
    "id": "qubhgnlO_Zct"
   },
   "source": [
    "Tidak semua nilai yang hilang berpengaruh terhadap penelitian. Misalnya, nilai yang hilang dalam `track` dan `artist` tidak begitu penting. Anda cukup menggantinya dengan tanda yang jelas.\n",
    "\n",
    "Namun nilai yang hilang dalam `'genre'` dapat memengaruhi perbandingan preferensi musik di Springfield dan Shelbyville. Dalam kehidupan nyata, ini akan berguna untuk mempelajari alasan mengapa data tersebut hilang dan mencoba memperbaikinya. Tetapi kita tidak memiliki kesempatan itu dalam proyek ini. Jadi Anda harus:\n",
    "* Isi nilai yang hilang ini dengan sebuah tanda\n",
    "* Evaluasi seberapa besar nilai yang hilang dapat memengaruhi perhitungan Anda"
   ]
  },
  {
   "cell_type": "markdown",
   "metadata": {
    "id": "fSv2laPA_Zct"
   },
   "source": [
    "Ganti nilai yang hilang pada `'track'`, `'artist'`, dan `'genre'` dengan string `'unknown'`. Untuk melakukannya, buat list `columns_to_replace`, lakukan *loop* dengan `for`, dan ganti nilai yang hilang di setiap kolom:"
   ]
  },
  {
   "cell_type": "code",
   "execution_count": 10,
   "metadata": {
    "id": "KplB5qWs_Zct"
   },
   "outputs": [
    {
     "name": "stdout",
     "output_type": "stream",
     "text": [
      "artist\n",
      "track\n",
      "genre\n"
     ]
    }
   ],
   "source": [
    "columns_to_replace = df.loc[:,['artist', 'track', 'genre']]\n",
    "\n",
    "for column in columns_to_replace:\n",
    "    if df[column].isna().any():\n",
    "        if column in columns_to_replace:\n",
    "            df[column] =df[column].fillna('unknown')\n",
    "            print(column)\n",
    "    "
   ]
  },
  {
   "cell_type": "markdown",
   "metadata": {
    "id": "Ilsm-MZo_Zct"
   },
   "source": [
    "Pastikan tidak ada tabel lagi yang berisi nilai yang hilang. Hitung kembali nilai yang hilang."
   ]
  },
  {
   "cell_type": "code",
   "execution_count": 11,
   "metadata": {
    "id": "Tq4nYRX4_Zct",
    "scrolled": true
   },
   "outputs": [
    {
     "data": {
      "text/plain": [
       "user_id    0\n",
       "track      0\n",
       "artist     0\n",
       "genre      0\n",
       "city       0\n",
       "time       0\n",
       "day        0\n",
       "dtype: int64"
      ]
     },
     "execution_count": 11,
     "metadata": {},
     "output_type": "execute_result"
    }
   ],
   "source": [
    "df.isna().sum()"
   ]
  },
  {
   "cell_type": "markdown",
   "metadata": {
    "id": "74ZIBmq9VrsK"
   },
   "source": [
    "[Kembali ke Daftar Isi](#back)"
   ]
  },
  {
   "cell_type": "markdown",
   "metadata": {
    "id": "BWKRtBJ3_Zct"
   },
   "source": [
    "### Duplikat <a id='duplicates'></a>\n",
    "Temukan jumlah duplikat yang jelas dalam tabel menggunakan satu perintah:"
   ]
  },
  {
   "cell_type": "code",
   "execution_count": 12,
   "metadata": {
    "id": "36eES_S0_Zct"
   },
   "outputs": [
    {
     "data": {
      "text/plain": [
       "3826"
      ]
     },
     "execution_count": 12,
     "metadata": {},
     "output_type": "execute_result"
    }
   ],
   "source": [
    "df.duplicated().sum()"
   ]
  },
  {
   "cell_type": "markdown",
   "metadata": {
    "id": "Ot25h6XR_Zct"
   },
   "source": [
    "Panggil metode `Pandas` untuk menghapus duplikat yang jelas:"
   ]
  },
  {
   "cell_type": "code",
   "execution_count": 13,
   "metadata": {
    "id": "exFHq6tt_Zct"
   },
   "outputs": [],
   "source": [
    "df = df.drop_duplicates().reset_index(drop=True)"
   ]
  },
  {
   "cell_type": "code",
   "execution_count": 14,
   "metadata": {},
   "outputs": [
    {
     "data": {
      "text/html": [
       "<div>\n",
       "<style scoped>\n",
       "    .dataframe tbody tr th:only-of-type {\n",
       "        vertical-align: middle;\n",
       "    }\n",
       "\n",
       "    .dataframe tbody tr th {\n",
       "        vertical-align: top;\n",
       "    }\n",
       "\n",
       "    .dataframe thead th {\n",
       "        text-align: right;\n",
       "    }\n",
       "</style>\n",
       "<table border=\"1\" class=\"dataframe\">\n",
       "  <thead>\n",
       "    <tr style=\"text-align: right;\">\n",
       "      <th></th>\n",
       "      <th>user_id</th>\n",
       "      <th>track</th>\n",
       "      <th>artist</th>\n",
       "      <th>genre</th>\n",
       "      <th>city</th>\n",
       "      <th>time</th>\n",
       "      <th>day</th>\n",
       "    </tr>\n",
       "  </thead>\n",
       "  <tbody>\n",
       "    <tr>\n",
       "      <th>0</th>\n",
       "      <td>FFB692EC</td>\n",
       "      <td>Kamigata To Boots</td>\n",
       "      <td>The Mass Missile</td>\n",
       "      <td>rock</td>\n",
       "      <td>Shelbyville</td>\n",
       "      <td>20:28:33</td>\n",
       "      <td>Wednesday</td>\n",
       "    </tr>\n",
       "    <tr>\n",
       "      <th>1</th>\n",
       "      <td>55204538</td>\n",
       "      <td>Delayed Because of Accident</td>\n",
       "      <td>Andreas Rönnberg</td>\n",
       "      <td>rock</td>\n",
       "      <td>Springfield</td>\n",
       "      <td>14:07:09</td>\n",
       "      <td>Friday</td>\n",
       "    </tr>\n",
       "    <tr>\n",
       "      <th>2</th>\n",
       "      <td>20EC38</td>\n",
       "      <td>Funiculì funiculà</td>\n",
       "      <td>Mario Lanza</td>\n",
       "      <td>pop</td>\n",
       "      <td>Shelbyville</td>\n",
       "      <td>20:58:07</td>\n",
       "      <td>Wednesday</td>\n",
       "    </tr>\n",
       "    <tr>\n",
       "      <th>3</th>\n",
       "      <td>A3DD03C9</td>\n",
       "      <td>Dragons in the Sunset</td>\n",
       "      <td>Fire + Ice</td>\n",
       "      <td>folk</td>\n",
       "      <td>Shelbyville</td>\n",
       "      <td>08:37:09</td>\n",
       "      <td>Monday</td>\n",
       "    </tr>\n",
       "    <tr>\n",
       "      <th>4</th>\n",
       "      <td>E2DC1FAE</td>\n",
       "      <td>Soul People</td>\n",
       "      <td>Space Echo</td>\n",
       "      <td>dance</td>\n",
       "      <td>Springfield</td>\n",
       "      <td>08:34:34</td>\n",
       "      <td>Monday</td>\n",
       "    </tr>\n",
       "    <tr>\n",
       "      <th>5</th>\n",
       "      <td>842029A1</td>\n",
       "      <td>Chains</td>\n",
       "      <td>Obladaet</td>\n",
       "      <td>rusrap</td>\n",
       "      <td>Shelbyville</td>\n",
       "      <td>13:09:41</td>\n",
       "      <td>Friday</td>\n",
       "    </tr>\n",
       "    <tr>\n",
       "      <th>6</th>\n",
       "      <td>4CB90AA5</td>\n",
       "      <td>True</td>\n",
       "      <td>Roman Messer</td>\n",
       "      <td>dance</td>\n",
       "      <td>Springfield</td>\n",
       "      <td>13:00:07</td>\n",
       "      <td>Wednesday</td>\n",
       "    </tr>\n",
       "    <tr>\n",
       "      <th>7</th>\n",
       "      <td>F03E1C1F</td>\n",
       "      <td>Feeling This Way</td>\n",
       "      <td>Polina Griffith</td>\n",
       "      <td>dance</td>\n",
       "      <td>Springfield</td>\n",
       "      <td>20:47:49</td>\n",
       "      <td>Wednesday</td>\n",
       "    </tr>\n",
       "    <tr>\n",
       "      <th>8</th>\n",
       "      <td>8FA1D3BE</td>\n",
       "      <td>L’estate</td>\n",
       "      <td>Julia Dalia</td>\n",
       "      <td>ruspop</td>\n",
       "      <td>Springfield</td>\n",
       "      <td>09:17:40</td>\n",
       "      <td>Friday</td>\n",
       "    </tr>\n",
       "    <tr>\n",
       "      <th>9</th>\n",
       "      <td>E772D5C0</td>\n",
       "      <td>Pessimist</td>\n",
       "      <td>unknown</td>\n",
       "      <td>dance</td>\n",
       "      <td>Shelbyville</td>\n",
       "      <td>21:20:49</td>\n",
       "      <td>Wednesday</td>\n",
       "    </tr>\n",
       "  </tbody>\n",
       "</table>\n",
       "</div>"
      ],
      "text/plain": [
       "    user_id                        track            artist   genre  \\\n",
       "0  FFB692EC            Kamigata To Boots  The Mass Missile    rock   \n",
       "1  55204538  Delayed Because of Accident  Andreas Rönnberg    rock   \n",
       "2    20EC38            Funiculì funiculà       Mario Lanza     pop   \n",
       "3  A3DD03C9        Dragons in the Sunset        Fire + Ice    folk   \n",
       "4  E2DC1FAE                  Soul People        Space Echo   dance   \n",
       "5  842029A1                       Chains          Obladaet  rusrap   \n",
       "6  4CB90AA5                         True      Roman Messer   dance   \n",
       "7  F03E1C1F             Feeling This Way   Polina Griffith   dance   \n",
       "8  8FA1D3BE                     L’estate       Julia Dalia  ruspop   \n",
       "9  E772D5C0                    Pessimist           unknown   dance   \n",
       "\n",
       "          city      time        day  \n",
       "0  Shelbyville  20:28:33  Wednesday  \n",
       "1  Springfield  14:07:09     Friday  \n",
       "2  Shelbyville  20:58:07  Wednesday  \n",
       "3  Shelbyville  08:37:09     Monday  \n",
       "4  Springfield  08:34:34     Monday  \n",
       "5  Shelbyville  13:09:41     Friday  \n",
       "6  Springfield  13:00:07  Wednesday  \n",
       "7  Springfield  20:47:49  Wednesday  \n",
       "8  Springfield  09:17:40     Friday  \n",
       "9  Shelbyville  21:20:49  Wednesday  "
      ]
     },
     "execution_count": 14,
     "metadata": {},
     "output_type": "execute_result"
    }
   ],
   "source": [
    "df.head(10)"
   ]
  },
  {
   "cell_type": "markdown",
   "metadata": {
    "id": "Im2YwBEG_Zct"
   },
   "source": [
    "Hitung duplikat yang jelas sekali lagi untuk memastikan Anda telah menghapus semuanya:"
   ]
  },
  {
   "cell_type": "code",
   "execution_count": 15,
   "metadata": {
    "id": "-8PuNWQ0_Zct",
    "scrolled": true
   },
   "outputs": [
    {
     "data": {
      "text/plain": [
       "0"
      ]
     },
     "execution_count": 15,
     "metadata": {},
     "output_type": "execute_result"
    }
   ],
   "source": [
    "df.duplicated().sum()"
   ]
  },
  {
   "cell_type": "markdown",
   "metadata": {
    "id": "QlFBsxAr_Zct"
   },
   "source": [
    "Sekarang hapus duplikat implisit di kolom `genre`. Misalnya, nama genre dapat ditulis dengan cara yang berbeda. Kesalahan seperti ini juga akan memengaruhi hasil."
   ]
  },
  {
   "cell_type": "markdown",
   "metadata": {
    "id": "eSjWwsOh_Zct"
   },
   "source": [
    "Tampilkan daftar nama genre yang unik, urutkan berdasarkan abjad. Untuk melakukannya:\n",
    "* Ambil kolom DataFrame yang dimaksud\n",
    "* Terapkan metode pengurutan untuk itu\n",
    "* Untuk kolom yang diurutkan, panggil metode yang akan menghasilkan semua nilai kolom yang unik"
   ]
  },
  {
   "cell_type": "code",
   "execution_count": 16,
   "metadata": {
    "id": "JIUcqzZN_Zct",
    "scrolled": true
   },
   "outputs": [
    {
     "data": {
      "text/plain": [
       "31916         acid\n",
       "3636      acoustic\n",
       "20264     acoustic\n",
       "37784     acoustic\n",
       "14611     acoustic\n",
       "           ...    \n",
       "6158         world\n",
       "17963        world\n",
       "27939    worldbeat\n",
       "39063    worldbeat\n",
       "8448           ïîï\n",
       "Name: genre, Length: 61253, dtype: object"
      ]
     },
     "execution_count": 16,
     "metadata": {},
     "output_type": "execute_result"
    }
   ],
   "source": [
    "df['genre'].sort_values()"
   ]
  },
  {
   "cell_type": "markdown",
   "metadata": {
    "id": "qej-Qmuo_Zct"
   },
   "source": [
    "Lihat melalui *list* untuk menemukan duplikat implisit dari genre `hiphop`. Ini bisa berupa nama yang ditulis secara salah atau nama alternatif dari genre yang sama.\n",
    "\n",
    "Anda akan melihat duplikat implisit berikut:\n",
    "* `hip`\n",
    "* `hop`\n",
    "* `hip-hop`\n",
    "\n",
    "Untuk menghapusnya, gunakan fungsi `replace_wrong_genres()` dengan dua parameter:\n",
    "* `wrong_genres=` — daftar duplikat\n",
    "* `correct_genre=` — string dengan nilai yang benar\n",
    "\n",
    "Fungsi harus mengoreksi nama dalam kolom `'genre'` dari tabel `df`, yaitu mengganti setiap nilai dari daftar `wrong_genres` dengan nilai dalam `correct_genre`."
   ]
  },
  {
   "cell_type": "code",
   "execution_count": 17,
   "metadata": {
    "id": "ErNDkmns_Zct"
   },
   "outputs": [],
   "source": [
    "def replace_wrong_genres(wrong, correct):\n",
    "    for wrong in wrong:\n",
    "        df['genre']=df['genre'].replace(wrong, correct)"
   ]
  },
  {
   "cell_type": "markdown",
   "metadata": {
    "id": "aDoBJxbA_Zct"
   },
   "source": [
    "Panggil `replace_wrong_genres()` dan berikan argumennya sehingga menghapus duplikat implisit (`hip`, `hop`, dan `hip-hop`) dan menggantinya dengan `hiphop`:"
   ]
  },
  {
   "cell_type": "code",
   "execution_count": 18,
   "metadata": {
    "id": "YN5i2hpmSo09",
    "scrolled": true
   },
   "outputs": [],
   "source": [
    "replace_wrong_genres(\"hip\", \"hiphop\")\n",
    "replace_wrong_genres(\"hop\", \"hiphop\")\n",
    "replace_wrong_genres(\"hip-hop\", \"hiphop\")"
   ]
  },
  {
   "cell_type": "markdown",
   "metadata": {
    "id": "zQKF16_RG15m"
   },
   "source": [
    "Pastikan nama duplikat telah dihapus. Tampilkan daftar nilai unik dari kolom `'genre'`:"
   ]
  },
  {
   "cell_type": "code",
   "execution_count": 19,
   "metadata": {
    "id": "wvixALnFG15m"
   },
   "outputs": [
    {
     "data": {
      "text/plain": [
       "31916         acid\n",
       "3636      acoustic\n",
       "20264     acoustic\n",
       "37784     acoustic\n",
       "14611     acoustic\n",
       "           ...    \n",
       "6158         world\n",
       "17963        world\n",
       "27939    worldbeat\n",
       "39063    worldbeat\n",
       "8448           ïîï\n",
       "Name: genre, Length: 61253, dtype: object"
      ]
     },
     "execution_count": 19,
     "metadata": {},
     "output_type": "execute_result"
    }
   ],
   "source": [
    "df['genre'].sort_values()"
   ]
  },
  {
   "cell_type": "markdown",
   "metadata": {
    "id": "ALgNbvF3VtPA"
   },
   "source": [
    "[Kembali ke Daftar Isi](#back)"
   ]
  },
  {
   "cell_type": "markdown",
   "metadata": {
    "id": "jz6a9-7HQUDd"
   },
   "source": [
    "### Kesimpulan <a id='data_preprocessing_conclusions'></a>\n",
    "Kita mendeteksi tiga masalah dengan data:\n",
    "\n",
    "- Gaya penulisan judul yang salah\n",
    "- Nilai-nilai yang hilang\n",
    "- Duplikat yang jelas dan implisit\n",
    "\n",
    "Judul telah dibersihkan untuk mempermudah pemrosesan tabel.\n",
    "\n",
    "Semua nilai yang hilang telah diganti dengan `'unknown'`. Tapi kita masih harus melihat apakah nilai yang hilang dalam `'genre'` akan memengaruhi perhitungan kita.\n",
    "\n",
    "Tidak adanya duplikat akan membuat hasil lebih tepat dan lebih mudah dipahami.\n",
    "\n",
    "Sekarang kita dapat melanjutkan ke pengujian hipotesis."
   ]
  },
  {
   "cell_type": "markdown",
   "metadata": {
    "id": "eK1es74rVujj"
   },
   "source": [
    "[Kembali ke Daftar Isi](#back)"
   ]
  },
  {
   "cell_type": "markdown",
   "metadata": {
    "id": "WttZHXH0SqKk"
   },
   "source": [
    "## Tahap 3. Menguji Hipotesis <a id='hypotheses'></a>"
   ]
  },
  {
   "cell_type": "markdown",
   "metadata": {
    "id": "Im936VVi_Zcu"
   },
   "source": [
    "### Hipotesis 1: Membandingkan Perilaku Pengguna di Dua Kota <a id='activity'></a>"
   ]
  },
  {
   "cell_type": "markdown",
   "metadata": {
    "id": "nwt_MuaL_Zcu"
   },
   "source": [
    "Menurut hipotesis pertama, pengguna dari Springfield dan Shelbyville memiliki perbedaan dalam mendengarkan musik. Pengujian ini menggunakan data pada hari: Senin, Rabu, dan Jumat.\n",
    "\n",
    "* Pisahkan pengguna ke dalam kelompok berdasarkan kota.\n",
    "* Bandingkan berapa banyak lagu yang dimainkan setiap kelompok pada hari Senin, Rabu, dan Jumat."
   ]
  },
  {
   "cell_type": "markdown",
   "metadata": {
    "id": "8Dw_YMmT_Zcu"
   },
   "source": [
    "Untuk latihan, lakukan setiap perhitungan secara terpisah.\n",
    "\n",
    "Evaluasi aktivitas pengguna di setiap kota. Kelompokkan data berdasarkan kota dan temukan jumlah lagu yang diputar di setiap kelompok.\n",
    "\n"
   ]
  },
  {
   "cell_type": "code",
   "execution_count": 20,
   "metadata": {
    "id": "0_Qs96oh_Zcu",
    "scrolled": false
   },
   "outputs": [
    {
     "data": {
      "text/plain": [
       "city\n",
       "Shelbyville    18512\n",
       "Springfield    42741\n",
       "Name: city, dtype: int64"
      ]
     },
     "execution_count": 20,
     "metadata": {},
     "output_type": "execute_result"
    }
   ],
   "source": [
    "city_sum = df.groupby('city')['city'].count()\n",
    "city_sum"
   ]
  },
  {
   "cell_type": "markdown",
   "metadata": {
    "id": "dzli3w8o_Zcu"
   },
   "source": [
    "Springfield memiliki lebih banyak lagu yang dimainkan daripada Shelbyville. Namun bukan berarti warga Springfield lebih sering mendengarkan musik. Kota ini lebih besar, dan memiliki lebih banyak pengguna.\n",
    "\n",
    "Sekarang kelompokkan data menurut hari dan temukan jumlah lagu yang diputar pada hari Senin, Rabu, dan Jumat."
   ]
  },
  {
   "cell_type": "code",
   "execution_count": 21,
   "metadata": {
    "id": "uZMKjiJz_Zcu",
    "scrolled": true
   },
   "outputs": [
    {
     "data": {
      "text/plain": [
       "day\n",
       "Friday       21840\n",
       "Monday       21354\n",
       "Wednesday    18059\n",
       "Name: day, dtype: int64"
      ]
     },
     "execution_count": 21,
     "metadata": {},
     "output_type": "execute_result"
    }
   ],
   "source": [
    "day_sum = df.groupby('day')['day'].count()\n",
    "day_sum"
   ]
  },
  {
   "cell_type": "markdown",
   "metadata": {
    "id": "cC2tNrlL_Zcu"
   },
   "source": [
    "Rabu adalah hari paling tenang secara keseluruhan. Tetapi jika kita mempertimbangkan kedua kota secara terpisah, kita mungkin akan memiliki kesimpulan yang berbeda."
   ]
  },
  {
   "cell_type": "markdown",
   "metadata": {
    "id": "POzs8bGa_Zcu"
   },
   "source": [
    "Anda telah melihat cara kerja pengelompokan berdasarkan kota atau hari. Sekarang tulis fungsi yang akan dikelompokkan berdasarkan keduanya.\n",
    "\n",
    "Buat fungsi `number_tracks()` untuk menghitung jumlah lagu yang diputar untuk hari dan kota tertentu. Ini akan membutuhkan dua parameter:\n",
    "* nama hari\n",
    "* nama kota\n",
    "\n",
    "Dalam fungsi, gunakan variabel untuk menyimpan baris dari tabel asli, di mana:\n",
    "  *  Nilai kolom `'day'` sama dengan parameter `day`\n",
    "  * Nilai kolom `'city'` sama dengan parameter `city`\n",
    "\n",
    "Terapkan pemfilteran berurutan dengan pengindeksan logis.\n",
    "\n",
    "Kemudian hitung nilai kolom `'user_id'` pada tabel yang dihasilkan. Simpan hasilnya ke variabel baru. Kembalikan variabel ini dari fungsi."
   ]
  },
  {
   "cell_type": "code",
   "execution_count": 22,
   "metadata": {
    "id": "Nz3GdQB1_Zcu"
   },
   "outputs": [],
   "source": [
    "def number_tracks(data, day, city):\n",
    "    track_list = data.loc [(data['day']==day) & (data['city']==city)]\n",
    "    track_list_count = track_list['user_id'].count()\n",
    "    \n",
    "    \n",
    "    print(track_list_count) "
   ]
  },
  {
   "cell_type": "markdown",
   "metadata": {
    "id": "ytf7xFrFJQ2r"
   },
   "source": [
    "Panggil `number_tracks()` enam kali dan ubahlah nilai parameternya, sehingga Anda bisa mengambil data di kedua kota untuk masing-masing hari tersebut."
   ]
  },
  {
   "cell_type": "code",
   "execution_count": 23,
   "metadata": {
    "id": "rJcRATNQ_Zcu"
   },
   "outputs": [
    {
     "name": "stdout",
     "output_type": "stream",
     "text": [
      "15740\n"
     ]
    }
   ],
   "source": [
    "number_tracks(df, 'Monday', 'Springfield')"
   ]
  },
  {
   "cell_type": "code",
   "execution_count": 24,
   "metadata": {
    "id": "hq_ncZ5T_Zcu"
   },
   "outputs": [
    {
     "name": "stdout",
     "output_type": "stream",
     "text": [
      "5614\n"
     ]
    }
   ],
   "source": [
    "number_tracks(df, 'Monday', 'Shelbyville') # jumlah lagu yang diputar di Shelbyville pada hari Senin"
   ]
  },
  {
   "cell_type": "code",
   "execution_count": 25,
   "metadata": {
    "id": "_NTy2VPU_Zcu"
   },
   "outputs": [
    {
     "name": "stdout",
     "output_type": "stream",
     "text": [
      "11056\n"
     ]
    }
   ],
   "source": [
    "number_tracks(df, 'Wednesday', 'Springfield')#  jumlah lagu yang diputar di Springfield pada hari Rabu"
   ]
  },
  {
   "cell_type": "code",
   "execution_count": 26,
   "metadata": {
    "id": "j2y3TAwo_Zcu"
   },
   "outputs": [
    {
     "name": "stdout",
     "output_type": "stream",
     "text": [
      "7003\n"
     ]
    }
   ],
   "source": [
    "number_tracks(df, 'Wednesday', 'Shelbyville')#  jumlah lagu yang diputar di Shelbyville pada hari Rabu"
   ]
  },
  {
   "cell_type": "code",
   "execution_count": 27,
   "metadata": {
    "id": "vYDw5u_K_Zcu"
   },
   "outputs": [
    {
     "name": "stdout",
     "output_type": "stream",
     "text": [
      "15945\n"
     ]
    }
   ],
   "source": [
    "number_tracks(df, 'Friday', 'Springfield')# jumlah lagu yang diputar di Springfield pada hari Jumat"
   ]
  },
  {
   "cell_type": "code",
   "execution_count": 28,
   "metadata": {
    "id": "8_yzFtW3_Zcu"
   },
   "outputs": [
    {
     "name": "stdout",
     "output_type": "stream",
     "text": [
      "5895\n"
     ]
    }
   ],
   "source": [
    "number_tracks(df, 'Friday', 'Shelbyville')# jumlah lagu yang diputar di Shelbyville pada hari Jumat"
   ]
  },
  {
   "cell_type": "markdown",
   "metadata": {
    "id": "7QXffbO-_Zcu"
   },
   "source": [
    "Gunakan `pd.DataFrame` untuk membuat tabel, di mana\n",
    "* Nama kolom adalah: `['city', 'monday', 'wednesday', 'friday']`\n",
    "* Data adalah hasil yang Anda dapatkan dari `number_tracks()`"
   ]
  },
  {
   "cell_type": "code",
   "execution_count": 29,
   "metadata": {
    "id": "APAcLpOr_Zcu"
   },
   "outputs": [
    {
     "data": {
      "text/html": [
       "<div>\n",
       "<style scoped>\n",
       "    .dataframe tbody tr th:only-of-type {\n",
       "        vertical-align: middle;\n",
       "    }\n",
       "\n",
       "    .dataframe tbody tr th {\n",
       "        vertical-align: top;\n",
       "    }\n",
       "\n",
       "    .dataframe thead th {\n",
       "        text-align: right;\n",
       "    }\n",
       "</style>\n",
       "<table border=\"1\" class=\"dataframe\">\n",
       "  <thead>\n",
       "    <tr style=\"text-align: right;\">\n",
       "      <th></th>\n",
       "      <th>city</th>\n",
       "      <th>monday</th>\n",
       "      <th>wednesday</th>\n",
       "      <th>friday</th>\n",
       "    </tr>\n",
       "  </thead>\n",
       "  <tbody>\n",
       "    <tr>\n",
       "      <th>0</th>\n",
       "      <td>Springfield</td>\n",
       "      <td>15740</td>\n",
       "      <td>11056</td>\n",
       "      <td>15945</td>\n",
       "    </tr>\n",
       "    <tr>\n",
       "      <th>1</th>\n",
       "      <td>Shelbyville</td>\n",
       "      <td>5614</td>\n",
       "      <td>7003</td>\n",
       "      <td>5895</td>\n",
       "    </tr>\n",
       "  </tbody>\n",
       "</table>\n",
       "</div>"
      ],
      "text/plain": [
       "          city  monday  wednesday  friday\n",
       "0  Springfield   15740      11056   15945\n",
       "1  Shelbyville    5614       7003    5895"
      ]
     },
     "execution_count": 29,
     "metadata": {},
     "output_type": "execute_result"
    }
   ],
   "source": [
    "list_data = [\n",
    "    ['Springfield', 15740, 11056, 15945], \n",
    "    ['Shelbyville', 5614, 7003, 5895]\n",
    "]\n",
    "new_columns = ['city', 'monday', 'wednesday', 'friday']\n",
    "\n",
    "tabel = pd.DataFrame(data=list_data, columns=new_columns)\n",
    "tabel"
   ]
  },
  {
   "cell_type": "markdown",
   "metadata": {
    "id": "-EgPIHYu_Zcu"
   },
   "source": [
    "**Kesimpulan**\n",
    "\n",
    "Data mengungkapkan perbedaan perilaku pengguna:\n",
    "\n",
    "- Pada Springfield, jumlah lagu yang diputar mencapai puncaknya pada hari Senin dan Jumat, sedangkan pada hari Rabu terjadi penurunan aktivitas.\n",
    "- Di Shelbyville, sebaliknya, pengguna lebih banyak mendengarkan musik pada hari Rabu.\n",
    "\n",
    "Aktivitas pengguna pada hari Senin dan Jumat lebih sedikit."
   ]
  },
  {
   "cell_type": "markdown",
   "metadata": {
    "id": "p7nFQajCVw5B"
   },
   "source": [
    "[Kembali ke Daftar Isi](#back)"
   ]
  },
  {
   "cell_type": "markdown",
   "metadata": {
    "id": "atZAxtq4_Zcu"
   },
   "source": [
    "### Hipotesis 2: Musik di Awal dan Akhir Minggu <a id='week'></a>"
   ]
  },
  {
   "cell_type": "markdown",
   "metadata": {
    "id": "eXrQqXFH_Zcu"
   },
   "source": [
    "Menurut hipotesis kedua, pada Senin pagi dan Jumat malam, warga Springfield mendengarkan genre yang berbeda dari yang dinikmati warga Shelbyville."
   ]
  },
  {
   "cell_type": "markdown",
   "metadata": {
    "id": "S8UcW6Hw_Zcu"
   },
   "source": [
    "Dapatkan tabel (pastikan nama tabel gabungan Anda cocok dengan DataFrame yang diberikan dalam dua blok kode di bawah):\n",
    "* Untuk Springfield — `spr_general`\n",
    "* Untuk Shelbyville — `shel_general`"
   ]
  },
  {
   "cell_type": "code",
   "execution_count": 30,
   "metadata": {
    "id": "qeaFfM_P_Zcu"
   },
   "outputs": [],
   "source": [
    "# mendapatkan tabel spr_general dari baris df,\n",
    "# dimana nilai dari kolom 'city' adalah 'Springfield'\n",
    "spr_general = df[df['city']=='Springfield']"
   ]
  },
  {
   "cell_type": "code",
   "execution_count": 31,
   "metadata": {
    "id": "ORaVRKto_Zcu"
   },
   "outputs": [],
   "source": [
    "# mendapatkan shel_general dari baris df,\n",
    "# dimana nilai dari kolom 'city' adalah 'Shelbyville'\n",
    "shel_general = df[df['city']=='Shelbyville']"
   ]
  },
  {
   "cell_type": "code",
   "execution_count": 32,
   "metadata": {},
   "outputs": [
    {
     "data": {
      "text/html": [
       "<div>\n",
       "<style scoped>\n",
       "    .dataframe tbody tr th:only-of-type {\n",
       "        vertical-align: middle;\n",
       "    }\n",
       "\n",
       "    .dataframe tbody tr th {\n",
       "        vertical-align: top;\n",
       "    }\n",
       "\n",
       "    .dataframe thead th {\n",
       "        text-align: right;\n",
       "    }\n",
       "</style>\n",
       "<table border=\"1\" class=\"dataframe\">\n",
       "  <thead>\n",
       "    <tr style=\"text-align: right;\">\n",
       "      <th></th>\n",
       "      <th>user_id</th>\n",
       "      <th>track</th>\n",
       "      <th>artist</th>\n",
       "      <th>genre</th>\n",
       "      <th>city</th>\n",
       "      <th>time</th>\n",
       "      <th>day</th>\n",
       "    </tr>\n",
       "  </thead>\n",
       "  <tbody>\n",
       "    <tr>\n",
       "      <th>0</th>\n",
       "      <td>FFB692EC</td>\n",
       "      <td>Kamigata To Boots</td>\n",
       "      <td>The Mass Missile</td>\n",
       "      <td>rock</td>\n",
       "      <td>Shelbyville</td>\n",
       "      <td>20:28:33</td>\n",
       "      <td>Wednesday</td>\n",
       "    </tr>\n",
       "    <tr>\n",
       "      <th>2</th>\n",
       "      <td>20EC38</td>\n",
       "      <td>Funiculì funiculà</td>\n",
       "      <td>Mario Lanza</td>\n",
       "      <td>pop</td>\n",
       "      <td>Shelbyville</td>\n",
       "      <td>20:58:07</td>\n",
       "      <td>Wednesday</td>\n",
       "    </tr>\n",
       "    <tr>\n",
       "      <th>3</th>\n",
       "      <td>A3DD03C9</td>\n",
       "      <td>Dragons in the Sunset</td>\n",
       "      <td>Fire + Ice</td>\n",
       "      <td>folk</td>\n",
       "      <td>Shelbyville</td>\n",
       "      <td>08:37:09</td>\n",
       "      <td>Monday</td>\n",
       "    </tr>\n",
       "    <tr>\n",
       "      <th>5</th>\n",
       "      <td>842029A1</td>\n",
       "      <td>Chains</td>\n",
       "      <td>Obladaet</td>\n",
       "      <td>rusrap</td>\n",
       "      <td>Shelbyville</td>\n",
       "      <td>13:09:41</td>\n",
       "      <td>Friday</td>\n",
       "    </tr>\n",
       "    <tr>\n",
       "      <th>9</th>\n",
       "      <td>E772D5C0</td>\n",
       "      <td>Pessimist</td>\n",
       "      <td>unknown</td>\n",
       "      <td>dance</td>\n",
       "      <td>Shelbyville</td>\n",
       "      <td>21:20:49</td>\n",
       "      <td>Wednesday</td>\n",
       "    </tr>\n",
       "    <tr>\n",
       "      <th>...</th>\n",
       "      <td>...</td>\n",
       "      <td>...</td>\n",
       "      <td>...</td>\n",
       "      <td>...</td>\n",
       "      <td>...</td>\n",
       "      <td>...</td>\n",
       "      <td>...</td>\n",
       "    </tr>\n",
       "    <tr>\n",
       "      <th>61239</th>\n",
       "      <td>D94F810B</td>\n",
       "      <td>Theme from the Walking Dead</td>\n",
       "      <td>Proyecto Halloween</td>\n",
       "      <td>film</td>\n",
       "      <td>Shelbyville</td>\n",
       "      <td>21:14:40</td>\n",
       "      <td>Monday</td>\n",
       "    </tr>\n",
       "    <tr>\n",
       "      <th>61240</th>\n",
       "      <td>BC8EC5CF</td>\n",
       "      <td>Red Lips: Gta (Rover Rework)</td>\n",
       "      <td>Rover</td>\n",
       "      <td>electronic</td>\n",
       "      <td>Shelbyville</td>\n",
       "      <td>21:06:50</td>\n",
       "      <td>Monday</td>\n",
       "    </tr>\n",
       "    <tr>\n",
       "      <th>61241</th>\n",
       "      <td>29E04611</td>\n",
       "      <td>Bre Petrunko</td>\n",
       "      <td>Perunika Trio</td>\n",
       "      <td>world</td>\n",
       "      <td>Shelbyville</td>\n",
       "      <td>13:56:00</td>\n",
       "      <td>Monday</td>\n",
       "    </tr>\n",
       "    <tr>\n",
       "      <th>61242</th>\n",
       "      <td>1B91C621</td>\n",
       "      <td>(Hello) Cloud Mountain</td>\n",
       "      <td>sleepmakeswaves</td>\n",
       "      <td>postrock</td>\n",
       "      <td>Shelbyville</td>\n",
       "      <td>09:22:13</td>\n",
       "      <td>Monday</td>\n",
       "    </tr>\n",
       "    <tr>\n",
       "      <th>61249</th>\n",
       "      <td>D08D4A55</td>\n",
       "      <td>Maybe One Day (feat. Black Spade)</td>\n",
       "      <td>Blu &amp; Exile</td>\n",
       "      <td>hip</td>\n",
       "      <td>Shelbyville</td>\n",
       "      <td>10:00:00</td>\n",
       "      <td>Monday</td>\n",
       "    </tr>\n",
       "  </tbody>\n",
       "</table>\n",
       "<p>18512 rows × 7 columns</p>\n",
       "</div>"
      ],
      "text/plain": [
       "        user_id                              track              artist  \\\n",
       "0      FFB692EC                  Kamigata To Boots    The Mass Missile   \n",
       "2        20EC38                  Funiculì funiculà         Mario Lanza   \n",
       "3      A3DD03C9              Dragons in the Sunset          Fire + Ice   \n",
       "5      842029A1                             Chains            Obladaet   \n",
       "9      E772D5C0                          Pessimist             unknown   \n",
       "...         ...                                ...                 ...   \n",
       "61239  D94F810B        Theme from the Walking Dead  Proyecto Halloween   \n",
       "61240  BC8EC5CF       Red Lips: Gta (Rover Rework)               Rover   \n",
       "61241  29E04611                       Bre Petrunko       Perunika Trio   \n",
       "61242  1B91C621             (Hello) Cloud Mountain     sleepmakeswaves   \n",
       "61249  D08D4A55  Maybe One Day (feat. Black Spade)         Blu & Exile   \n",
       "\n",
       "            genre         city      time        day  \n",
       "0            rock  Shelbyville  20:28:33  Wednesday  \n",
       "2             pop  Shelbyville  20:58:07  Wednesday  \n",
       "3            folk  Shelbyville  08:37:09     Monday  \n",
       "5          rusrap  Shelbyville  13:09:41     Friday  \n",
       "9           dance  Shelbyville  21:20:49  Wednesday  \n",
       "...           ...          ...       ...        ...  \n",
       "61239        film  Shelbyville  21:14:40     Monday  \n",
       "61240  electronic  Shelbyville  21:06:50     Monday  \n",
       "61241       world  Shelbyville  13:56:00     Monday  \n",
       "61242    postrock  Shelbyville  09:22:13     Monday  \n",
       "61249         hip  Shelbyville  10:00:00     Monday  \n",
       "\n",
       "[18512 rows x 7 columns]"
      ]
     },
     "execution_count": 32,
     "metadata": {},
     "output_type": "execute_result"
    }
   ],
   "source": [
    "shel_general"
   ]
  },
  {
   "cell_type": "markdown",
   "metadata": {
    "id": "MEJV-CX2_Zcu"
   },
   "source": [
    "Tulis fungsi `genre_weekday()` dengan empat parameter:\n",
    "* Sebuah tabel untuk data\n",
    "* Nama hari\n",
    "* Tanda waktu pertama, dalam format 'hh:mm'\n",
    "* Tanda waktu terakhir, dalam format 'hh: mm'\n",
    "\n",
    "Fungsi tersebut harus menghasilkan info tentang 15 genre paling populer pada hari tertentu dalam periode diantara dua tanda waktu."
   ]
  },
  {
   "cell_type": "code",
   "execution_count": 33,
   "metadata": {
    "id": "laJT9BYl_Zcu"
   },
   "outputs": [],
   "source": [
    "# Mendeklarasikan fungsi genre_weekday() dengan parameter day=, time1=, dan time2=. Itu harus\n",
    "# memberikan informasi tentang genre paling populer pada hari dan waktu tertentu:\n",
    "def genre_weekday(data, hari, time1, time2):\n",
    "    genre_df = data.loc[(data['day']==hari) & (data['time'] > time1) & (data['time'] < time2)]\n",
    "    genre_df_count = genre_df.groupby('genre')['genre'].count()\n",
    "    genre_df_sorted = genre_df_count.sort_values(ascending=False)\n",
    "    return genre_df_sorted[:15]"
   ]
  },
  {
   "cell_type": "markdown",
   "metadata": {
    "id": "la2s2_PF_Zcu"
   },
   "source": [
    "Bandingkan hasil fungsi `genre_weekday()` untuk Springfield dan Shelbyville pada Senin pagi (dari pukul 07.00 hingga 11.00) dan pada Jumat malam (dari pukul 17:00 hingga 23:00):"
   ]
  },
  {
   "cell_type": "code",
   "execution_count": 34,
   "metadata": {
    "id": "yz7itPUQ_Zcu"
   },
   "outputs": [
    {
     "data": {
      "text/plain": [
       "genre\n",
       "pop            781\n",
       "dance          549\n",
       "electronic     480\n",
       "rock           474\n",
       "hip            281\n",
       "ruspop         186\n",
       "world          181\n",
       "rusrap         175\n",
       "alternative    164\n",
       "unknown        161\n",
       "classical      157\n",
       "metal          120\n",
       "jazz           100\n",
       "folk            97\n",
       "soundtrack      95\n",
       "Name: genre, dtype: int64"
      ]
     },
     "execution_count": 34,
     "metadata": {},
     "output_type": "execute_result"
    }
   ],
   "source": [
    "# memanggil fungsi untuk Senin pagi di Springfield (gunakan spr_general alih-alih tabel df)\n",
    "genre_weekday(spr_general, 'Monday', '07:00', '11:00')"
   ]
  },
  {
   "cell_type": "code",
   "execution_count": 35,
   "metadata": {
    "id": "kwUcHPdy_Zcu"
   },
   "outputs": [
    {
     "data": {
      "text/plain": [
       "genre\n",
       "pop            218\n",
       "dance          182\n",
       "rock           162\n",
       "electronic     147\n",
       "hip             79\n",
       "ruspop          64\n",
       "alternative     58\n",
       "rusrap          55\n",
       "jazz            44\n",
       "classical       40\n",
       "world           36\n",
       "rap             32\n",
       "soundtrack      31\n",
       "rnb             27\n",
       "metal           27\n",
       "Name: genre, dtype: int64"
      ]
     },
     "execution_count": 35,
     "metadata": {},
     "output_type": "execute_result"
    }
   ],
   "source": [
    "# memanggil fungsi untuk Senin pagi di Shelbyville (gunakan shel_general alih-alih tabel df)\n",
    "genre_weekday(shel_general, 'Monday', '07:00', '11:00')"
   ]
  },
  {
   "cell_type": "code",
   "execution_count": 36,
   "metadata": {
    "id": "EzXVRE1o_Zcu"
   },
   "outputs": [
    {
     "data": {
      "text/plain": [
       "genre\n",
       "pop            789\n",
       "dance          585\n",
       "rock           509\n",
       "electronic     506\n",
       "hip            274\n",
       "ruspop         207\n",
       "classical      201\n",
       "world          174\n",
       "alternative    172\n",
       "rusrap         148\n",
       "metal          129\n",
       "soundtrack     104\n",
       "jazz           103\n",
       "unknown         87\n",
       "latin           86\n",
       "Name: genre, dtype: int64"
      ]
     },
     "execution_count": 36,
     "metadata": {},
     "output_type": "execute_result"
    }
   ],
   "source": [
    "# memanggil fungsi untuk Jumat malam di Springfield\n",
    "genre_weekday(spr_general, 'Friday', '07:00', '11:00')"
   ]
  },
  {
   "cell_type": "code",
   "execution_count": 37,
   "metadata": {
    "id": "JZaEKu5v_Zcu",
    "scrolled": true
   },
   "outputs": [
    {
     "data": {
      "text/plain": [
       "genre\n",
       "pop            211\n",
       "dance          192\n",
       "electronic     167\n",
       "rock           156\n",
       "hip            106\n",
       "classical       56\n",
       "alternative     55\n",
       "rusrap          55\n",
       "world           46\n",
       "ruspop          45\n",
       "metal           42\n",
       "latin           41\n",
       "rap             36\n",
       "rnb             33\n",
       "jazz            32\n",
       "Name: genre, dtype: int64"
      ]
     },
     "execution_count": 37,
     "metadata": {},
     "output_type": "execute_result"
    }
   ],
   "source": [
    "# memanggil fungsi untuk Jumat malam di Shelbyville\n",
    "genre_weekday(shel_general, 'Friday', '07:00', '11:00')"
   ]
  },
  {
   "cell_type": "markdown",
   "metadata": {
    "id": "wrCe4MNX_Zcu"
   },
   "source": [
    "**Kesimpulan**\n",
    "\n",
    "Setelah membandingkan 15 genre teratas pada Senin pagi, kita dapat menarik kesimpulan berikut:\n",
    "\n",
    "1. Pengguna dari Springfield dan Shelbyville mendengarkan musik dengan genre yang sama. Lima genre teratas sama, hanya rock dan elektronik yang bertukar tempat.\n",
    "\n",
    "2. Di Springfield, jumlah nilai yang hilang ternyata sangat besar sehingga nilai `'unknown'` berada di urutan ke-10. Ini berarti bahwa nilai-nilai yang hilang memiliki jumlah data yang cukup besar, yang mungkin menjadi dasar untuk mempertanyakan ketepatan kesimpulan kita.\n",
    "\n",
    "Untuk Jumat malam, situasinya serupa. Genre individu agak bervariasi, tetapi secara keseluruhan, 15 besar genre untuk kedua kota sama.\n",
    "\n",
    "Dengan demikian, hipotesis kedua sebagian terbukti benar:\n",
    "* Pengguna mendengarkan musik yang sama di awal dan akhir minggu.\n",
    "* Tidak ada perbedaan yang mencolok antara Springfield dan Shelbyville. Pada kedua kota tersebut, pop adalah genre yang paling populer.\n",
    "\n",
    "Namun, jumlah nilai yang hilang membuat hasil ini dipertanyakan. Di Springfield, ada begitu banyak yang memengaruhi 15 teratas kita. Jika kita tidak mengabaikan nilai-nilai ini, hasilnya mungkin akan berbeda."
   ]
  },
  {
   "cell_type": "markdown",
   "metadata": {
    "id": "jLmXgdanVyhP"
   },
   "source": [
    "[Kembali ke Daftar Isi](#back)"
   ]
  },
  {
   "cell_type": "markdown",
   "metadata": {
    "id": "JolODAqr_Zcu"
   },
   "source": [
    "### Hipotesis 3: Preferensi Genre di Springfield dan Shelbyville <a id='genre'></a>\n",
    "\n",
    "Hipotesis: Shelbyville menyukai musik rap. Warga Springfield lebih menyukai pop."
   ]
  },
  {
   "cell_type": "markdown",
   "metadata": {
    "id": "DlegSvaT_Zcu"
   },
   "source": [
    "Kelompokkan tabel `spr_general` berdasarkan genre dan temukan jumlah lagu yang dimainkan untuk setiap genre dengan metode `count()`. Kemudian urutkan hasilnya dalam urutan menurun dan simpan ke `spr_genres`."
   ]
  },
  {
   "cell_type": "code",
   "execution_count": 38,
   "metadata": {
    "id": "r19lIPke_Zcu"
   },
   "outputs": [],
   "source": [
    "# pada satu baris: kelompokkan tabel spr_general berdasarkan kolom 'genre',\n",
    "# hitung nilai 'genre' dengan count() dalam pengelompokan,\n",
    "# urutkan Series yang dihasilkan dalam urutan menurun, lalu simpan ke spr_genres\n",
    "spr_genres = spr_general.groupby('genre')['genre'].count().sort_values(ascending=False)"
   ]
  },
  {
   "cell_type": "markdown",
   "metadata": {
    "id": "6kMuomxTiIr8"
   },
   "source": [
    "Tampilkan 10 baris pertama dari `spr_genres`:"
   ]
  },
  {
   "cell_type": "code",
   "execution_count": 39,
   "metadata": {
    "id": "WhCSooF8_Zcv"
   },
   "outputs": [
    {
     "data": {
      "text/plain": [
       "genre\n",
       "pop            5892\n",
       "dance          4435\n",
       "rock           3965\n",
       "electronic     3786\n",
       "hip            2041\n",
       "classical      1616\n",
       "world          1432\n",
       "alternative    1379\n",
       "ruspop         1372\n",
       "rusrap         1161\n",
       "Name: genre, dtype: int64"
      ]
     },
     "execution_count": 39,
     "metadata": {},
     "output_type": "execute_result"
    }
   ],
   "source": [
    "# menampilkan 10 baris pertama dari spr_genres\n",
    "spr_genres.head(10)"
   ]
  },
  {
   "cell_type": "markdown",
   "metadata": {
    "id": "cnPG2vnN_Zcv"
   },
   "source": [
    "Sekarang lakukan hal yang sama pada data di Shelbyville.\n",
    "\n",
    "Kelompokkan tabel `shel_general` berdasarkan genre dan temukan jumlah lagu yang dimainkan untuk setiap genre. Kemudian urutkan hasilnya dalam urutan menurun dan simpan ke tabel `shel_genres`:"
   ]
  },
  {
   "cell_type": "code",
   "execution_count": 40,
   "metadata": {
    "id": "gluLIpE7_Zcv"
   },
   "outputs": [],
   "source": [
    "# pada satu baris: kelompokkan tabel shel_general menurut kolom 'genre',\n",
    "# hitung nilai 'genre' dalam pengelompokan menggunakan count(),\n",
    "# urutkan Series yang dihasilkan dalam urutan menurun dan simpan ke shel_genres\n",
    "shel_genres = shel_general.groupby('genre')['genre'].count().sort_values(ascending=False)"
   ]
  },
  {
   "cell_type": "markdown",
   "metadata": {
    "id": "5Doha_ODgyQ8"
   },
   "source": [
    "Tampilkan 10 baris pertama dari `shel_genres`:"
   ]
  },
  {
   "cell_type": "code",
   "execution_count": 41,
   "metadata": {
    "id": "uaGJHjVU_Zcv",
    "scrolled": true
   },
   "outputs": [
    {
     "data": {
      "text/plain": [
       "genre\n",
       "pop            2431\n",
       "dance          1932\n",
       "rock           1879\n",
       "electronic     1736\n",
       "hip             934\n",
       "alternative     649\n",
       "classical       646\n",
       "rusrap          564\n",
       "ruspop          538\n",
       "world           515\n",
       "Name: genre, dtype: int64"
      ]
     },
     "execution_count": 41,
     "metadata": {},
     "output_type": "execute_result"
    }
   ],
   "source": [
    "# menampilkan 10 baris pertama dari shel_genres\n",
    "shel_genres.head(10)"
   ]
  },

  {
   "cell_type": "markdown",
   "metadata": {
    "id": "RY51YJYu_Zcv"
   },
   "source": [
    "**Kesimpulan**"
   ]
  },
  {
   "cell_type": "markdown",
   "metadata": {
    "id": "nVhnJEm__Zcv"
   },
   "source": [
    "Hipotesis terbukti benar sebagian:\n",
    "* Musik pop adalah genre paling populer di Springfield, seperti yang diharapkan.\n",
    "* Namun, musik pop ternyata sama populernya baik di Springfield maupun di Shelbyville, dan musik rap tidak berada di 5 besar untuk kedua kota tersebut.\n"
   ]
  },
  {
   "cell_type": "markdown",
   "metadata": {
    "id": "Byr0RfpPVz14"
   },
   "source": [
    "[Kembali ke Daftar Isi](#back)"
   ]
  },
  {
   "cell_type": "markdown",
   "metadata": {
    "id": "ykKQ0N65_Zcv"
   },
   "source": [
    "# Temuan <a id='end'></a>"
   ]
  },
  {
   "cell_type": "markdown",
   "metadata": {
    "id": "tjUwbHb3_Zcv"
   },
   "source": [
    "Kita telah menguji tiga hipotesis berikut:\n",
    "\n",
    "1. Aktivitas pengguna berbeda-beda tergantung pada hari dan kotanya.\n",
    "2. Pada senin pagi, penduduk Springfield dan Shelbyville mendengarkan genre yang berbeda. Hal ini juga ini juga berlaku untuk Jumat malam.\n",
    "3. Pendengar di Springfield dan Shelbyville memiliki preferensi yang berbeda. Baik Springfield maupun di Shelbyville, mereka lebih suka musik pop.\n",
    "\n",
    "Setelah menganalisis data, kita dapat menyimpulkan:\n",
    "\n",
    "1. Aktivitas pengguna di Springfield dan Shelbyville bergantung pada harinya, walaupun kotanya berbeda.\n",
    "\n",
    "Hipotesis pertama dapat diterima sepenuhnya.\n",
    "\n",
    "2. Preferensi musik tidak terlalu berbeda selama seminggu di Springfield dan Shelbyville. Kita dapat melihat perbedaan kecil dalam urutan pada hari Senin, tetapi:\n",
    "* Baik di Springfield maupun di Shelbyville, orang paling banyak mendengarkan musik pop.\n",
    "\n",
    "Jadi hipotesis ini tidak dapat kita terima. Kita juga harus ingat bahwa hasilnya bisa berbeda jika bukan karena nilai yang hilang.\n",
    "\n",
    "3. Ternyata preferensi musik pengguna dari Springfield dan Shelbyville sangat mirip.\n",
    "\n",
    "Hipotesis ketiga ditolak. Jika ada perbedaan preferensi, tidak dapat dilihat dari data ini.\n",
    "\n",
    "### Catatan\n",
    "Dalam proyek sesungguhnya, penelitian melibatkan pengujian hipotesis statistik, yang lebih tepat dan lebih kuantitatif. Perhatikan juga bahwa Anda tidak dapat selalu menarik kesimpulan tentang seluruh kota berdasarkan data dari satu sumber saja.\n",
    "\n",
    "Anda akan mempelajari pengujian hipotesis dalam sprint analisis data statistik."
   ]
  },
  {
   "cell_type": "markdown",
   "metadata": {
    "id": "Ju4AHDSgV1FE"
   },
   "source": [
    "[Kembali ke Daftar Isi](#back)"
   ]
  }
 ],
 "metadata": {
  "ExecuteTimeLog": [
   {
    "duration": 404,
    "start_time": "2022-08-09T12:34:40.905Z"
   },
   {
    "duration": 83,
    "start_time": "2022-08-09T12:37:06.073Z"
   },
   {
    "duration": 60,
    "start_time": "2022-08-09T12:37:13.613Z"
   },
   {
    "duration": 155,
    "start_time": "2022-08-09T12:37:39.145Z"
   },
   {
    "duration": 211,
    "start_time": "2022-08-09T12:38:34.419Z"
   },
   {
    "duration": 126,
    "start_time": "2022-08-09T12:38:44.207Z"
   },
   {
    "duration": 7,
    "start_time": "2022-08-09T12:39:27.210Z"
   },
   {
    "duration": 7,
    "start_time": "2022-08-09T12:39:32.913Z"
   },
   {
    "duration": 4,
    "start_time": "2022-08-09T12:40:34.527Z"
   },
   {
    "duration": 14,
    "start_time": "2022-08-09T12:44:21.884Z"
   },
   {
    "duration": 3,
    "start_time": "2022-08-09T12:44:37.574Z"
   },
   {
    "duration": 12,
    "start_time": "2022-08-09T12:45:18.820Z"
   },
   {
    "duration": 3,
    "start_time": "2022-08-09T12:45:30.930Z"
   },
   {
    "duration": 4,
    "start_time": "2022-08-09T12:45:36.470Z"
   },
   {
    "duration": 12,
    "start_time": "2022-08-09T12:46:33.716Z"
   },
   {
    "duration": 4,
    "start_time": "2022-08-09T12:46:41.186Z"
   },
   {
    "duration": 3,
    "start_time": "2022-08-09T12:46:53.947Z"
   },
   {
    "duration": 32,
    "start_time": "2022-08-09T12:47:30.857Z"
   },
   {
    "duration": 4,
    "start_time": "2022-08-09T12:47:37.120Z"
   },
   {
    "duration": 33,
    "start_time": "2022-08-09T12:47:51.158Z"
   },
   {
    "duration": 4,
    "start_time": "2022-08-09T12:47:54.106Z"
   },
   {
    "duration": 45,
    "start_time": "2022-08-09T12:48:19.939Z"
   },
   {
    "duration": 650,
    "start_time": "2022-08-09T12:48:25.654Z"
   },
   {
    "duration": 560,
    "start_time": "2022-08-09T12:48:36.280Z"
   },
   {
    "duration": 125,
    "start_time": "2022-08-09T12:48:38.221Z"
   },
   {
    "duration": 7,
    "start_time": "2022-08-09T12:48:41.888Z"
   },
   {
    "duration": 7,
    "start_time": "2022-08-09T12:48:46.900Z"
   },
   {
    "duration": 3,
    "start_time": "2022-08-09T12:49:00.340Z"
   },
   {
    "duration": 4,
    "start_time": "2022-08-09T12:49:12.892Z"
   },
   {
    "duration": 46,
    "start_time": "2022-08-09T12:50:07.336Z"
   },
   {
    "duration": 4,
    "start_time": "2022-08-09T12:50:10.214Z"
   },
   {
    "duration": 13,
    "start_time": "2022-08-09T12:50:57.583Z"
   },
   {
    "duration": 4,
    "start_time": "2022-08-09T12:51:03.348Z"
   },
   {
    "duration": 13,
    "start_time": "2022-08-09T12:51:21.181Z"
   },
   {
    "duration": 4,
    "start_time": "2022-08-09T12:51:22.986Z"
   },
   {
    "duration": 27,
    "start_time": "2022-08-09T12:54:59.414Z"
   },
   {
    "duration": 20,
    "start_time": "2022-08-09T12:55:02.905Z"
   },
   {
    "duration": 26,
    "start_time": "2022-08-09T12:59:23.356Z"
   },
   {
    "duration": 42,
    "start_time": "2022-08-09T13:01:00.426Z"
   },
   {
    "duration": 41,
    "start_time": "2022-08-09T13:01:02.571Z"
   },
   {
    "duration": 530,
    "start_time": "2022-08-09T13:01:41.333Z"
   },
   {
    "duration": 133,
    "start_time": "2022-08-09T13:01:43.999Z"
   },
   {
    "duration": 6,
    "start_time": "2022-08-09T13:01:47.207Z"
   },
   {
    "duration": 3,
    "start_time": "2022-08-09T13:01:50.990Z"
   },
   {
    "duration": 4,
    "start_time": "2022-08-09T13:01:55.038Z"
   },
   {
    "duration": 13,
    "start_time": "2022-08-09T13:01:57.860Z"
   },
   {
    "duration": 3,
    "start_time": "2022-08-09T13:02:01.163Z"
   },
   {
    "duration": 46,
    "start_time": "2022-08-10T00:32:23.868Z"
   },
   {
    "duration": 8,
    "start_time": "2022-08-10T00:36:05.787Z"
   },
   {
    "duration": 609,
    "start_time": "2022-08-10T00:37:08.788Z"
   },
   {
    "duration": 112,
    "start_time": "2022-08-10T00:37:13.584Z"
   },
   {
    "duration": 7,
    "start_time": "2022-08-10T00:37:15.969Z"
   },
   {
    "duration": 3,
    "start_time": "2022-08-10T00:37:18.213Z"
   },
   {
    "duration": 4,
    "start_time": "2022-08-10T00:37:21.278Z"
   },
   {
    "duration": 13,
    "start_time": "2022-08-10T00:37:23.480Z"
   },
   {
    "duration": 4,
    "start_time": "2022-08-10T00:37:25.448Z"
   },
   {
    "duration": 20,
    "start_time": "2022-08-10T00:37:29.031Z"
   },
   {
    "duration": 15,
    "start_time": "2022-08-10T00:40:35.475Z"
   },
   {
    "duration": 21,
    "start_time": "2022-08-10T00:40:38.051Z"
   },
   {
    "duration": 63,
    "start_time": "2022-08-10T00:43:23.156Z"
   },
   {
    "duration": 182,
    "start_time": "2022-08-10T00:46:14.834Z"
   },
   {
    "duration": 56,
    "start_time": "2022-08-10T00:46:20.966Z"
   },
   {
    "duration": 1216,
    "start_time": "2022-08-10T00:53:11.431Z"
   },
   {
    "duration": 1342,
    "start_time": "2022-08-10T00:53:19.788Z"
   },
   {
    "duration": 1259,
    "start_time": "2022-08-10T00:55:17.508Z"
   },
   {
    "duration": 7,
    "start_time": "2022-08-10T01:02:56.405Z"
   },
   {
    "duration": 1296,
    "start_time": "2022-08-10T01:14:28.926Z"
   },
   {
    "duration": 9,
    "start_time": "2022-08-10T01:15:28.263Z"
   },
   {
    "duration": 9,
    "start_time": "2022-08-10T01:16:01.346Z"
   },
   {
    "duration": 7,
    "start_time": "2022-08-10T01:16:44.274Z"
   },
   {
    "duration": 263,
    "start_time": "2022-08-10T04:06:35.325Z"
   },
   {
    "duration": 279,
    "start_time": "2022-08-10T04:06:42.393Z"
   },
   {
    "duration": 274,
    "start_time": "2022-08-10T04:06:52.939Z"
   },
   {
    "duration": 249,
    "start_time": "2022-08-10T04:12:40.096Z"
   },
   {
    "duration": 10,
    "start_time": "2022-08-10T04:12:58.423Z"
   },
   {
    "duration": 4,
    "start_time": "2022-08-10T04:32:18.290Z"
   },
   {
    "duration": 240,
    "start_time": "2022-08-10T04:33:04.797Z"
   },
   {
    "duration": 9,
    "start_time": "2022-08-10T04:33:13.434Z"
   },
   {
    "duration": 9,
    "start_time": "2022-08-10T04:33:26.141Z"
   },
   {
    "duration": 9,
    "start_time": "2022-08-10T04:33:40.116Z"
   },
   {
    "duration": 13,
    "start_time": "2022-08-10T04:33:55.083Z"
   },
   {
    "duration": 8,
    "start_time": "2022-08-10T04:34:25.321Z"
   },
   {
    "duration": 569,
    "start_time": "2022-08-10T12:56:46.667Z"
   },
   {
    "duration": 128,
    "start_time": "2022-08-10T12:56:49.608Z"
   },
   {
    "duration": 7,
    "start_time": "2022-08-10T12:56:56.446Z"
   },
   {
    "duration": 3,
    "start_time": "2022-08-10T12:57:00.274Z"
   },
   {
    "duration": 4,
    "start_time": "2022-08-10T12:57:04.811Z"
   },
   {
    "duration": 13,
    "start_time": "2022-08-10T12:57:07.472Z"
   },
   {
    "duration": 3,
    "start_time": "2022-08-10T12:57:10.373Z"
   },
   {
    "duration": 22,
    "start_time": "2022-08-10T12:57:13.405Z"
   },
   {
    "duration": 19,
    "start_time": "2022-08-10T12:57:18.041Z"
   },
   {
    "duration": 22,
    "start_time": "2022-08-10T12:57:19.963Z"
   },
   {
    "duration": 59,
    "start_time": "2022-08-10T12:57:25.309Z"
   },
   {
    "duration": 115,
    "start_time": "2022-08-10T12:57:33.253Z"
   },
   {
    "duration": 54,
    "start_time": "2022-08-10T12:57:35.546Z"
   },
   {
    "duration": 6,
    "start_time": "2022-08-10T12:57:39.744Z"
   },
   {
    "duration": 8,
    "start_time": "2022-08-10T12:57:44.047Z"
   },
   {
    "duration": 6,
    "start_time": "2022-08-10T12:57:46.447Z"
   },
   {
    "duration": 6,
    "start_time": "2022-08-10T12:57:51.877Z"
   },
   {
    "duration": 64,
    "start_time": "2022-08-10T13:03:08.274Z"
   },
   {
    "duration": 27,
    "start_time": "2022-08-10T13:05:12.742Z"
   },
   {
    "duration": 26,
    "start_time": "2022-08-10T13:05:23.570Z"
   },
   {
    "duration": 29,
    "start_time": "2022-08-10T13:06:11.536Z"
   },
   {
    "duration": 27,
    "start_time": "2022-08-10T13:06:17.130Z"
   },
   {
    "duration": 8,
    "start_time": "2022-08-10T13:07:15.276Z"
   },
   {
    "duration": 6,
    "start_time": "2022-08-10T13:09:32.382Z"
   },
   {
    "duration": 28,
    "start_time": "2022-08-10T13:10:01.411Z"
   },
   {
    "duration": 8,
    "start_time": "2022-08-10T13:10:08.632Z"
   },
   {
    "duration": 92,
    "start_time": "2022-08-10T13:10:35.116Z"
   },
   {
    "duration": 133,
    "start_time": "2022-08-10T13:11:34.063Z"
   },
   {
    "duration": 29,
    "start_time": "2022-08-10T13:12:42.731Z"
   },
   {
    "duration": 76,
    "start_time": "2022-08-10T13:13:00.027Z"
   },
   {
    "duration": 93,
    "start_time": "2022-08-10T13:13:24.161Z"
   },
   {
    "duration": 29,
    "start_time": "2022-08-10T13:13:30.292Z"
   },
   {
    "duration": 81,
    "start_time": "2022-08-10T13:13:33.051Z"
   },
   {
    "duration": 94,
    "start_time": "2022-08-10T13:14:28.463Z"
   },
   {
    "duration": 98,
    "start_time": "2022-08-10T13:16:55.975Z"
   },
   {
    "duration": 124,
    "start_time": "2022-08-10T13:17:59.438Z"
   },
   {
    "duration": 27,
    "start_time": "2022-08-10T13:18:26.431Z"
   },
   {
    "duration": 8,
    "start_time": "2022-08-10T13:18:49.054Z"
   },
   {
    "duration": 5,
    "start_time": "2022-08-10T13:19:15.081Z"
   },
   {
    "duration": 12,
    "start_time": "2022-08-10T13:19:37.137Z"
   },
   {
    "duration": 44,
    "start_time": "2022-08-10T13:19:45.215Z"
   },
   {
    "duration": 43,
    "start_time": "2022-08-10T13:19:50.055Z"
   },
   {
    "duration": 27,
    "start_time": "2022-08-10T13:20:41.117Z"
   },
   {
    "duration": 27,
    "start_time": "2022-08-10T13:20:57.510Z"
   },
   {
    "duration": 46,
    "start_time": "2022-08-10T13:21:15.414Z"
   },
   {
    "duration": 136,
    "start_time": "2022-08-10T13:33:16.390Z"
   },
   {
    "duration": 77,
    "start_time": "2022-08-10T13:57:44.738Z"
   },
   {
    "duration": 88,
    "start_time": "2022-08-10T13:58:09.318Z"
   },
   {
    "duration": 113,
    "start_time": "2022-08-10T13:58:22.326Z"
   },
   {
    "duration": 103,
    "start_time": "2022-08-10T14:25:14.185Z"
   },
   {
    "duration": 176,
    "start_time": "2022-08-10T14:25:27.269Z"
   },
   {
    "duration": 91,
    "start_time": "2022-08-10T14:27:33.242Z"
   },
   {
    "duration": 86,
    "start_time": "2022-08-10T14:27:38.556Z"
   },
   {
    "duration": 98,
    "start_time": "2022-08-10T14:28:04.238Z"
   },
   {
    "duration": 98,
    "start_time": "2022-08-10T14:28:23.715Z"
   },
   {
    "duration": 78,
    "start_time": "2022-08-10T14:28:29.856Z"
   },
   {
    "duration": 88,
    "start_time": "2022-08-10T14:28:52.830Z"
   },
   {
    "duration": 87,
    "start_time": "2022-08-10T14:29:00.301Z"
   },
   {
    "duration": 79,
    "start_time": "2022-08-10T14:29:08.959Z"
   },
   {
    "duration": 98,
    "start_time": "2022-08-10T14:29:15.335Z"
   },
   {
    "duration": 77,
    "start_time": "2022-08-10T14:29:58.384Z"
   },
   {
    "duration": 81,
    "start_time": "2022-08-10T14:30:09.643Z"
   },
   {
    "duration": 100,
    "start_time": "2022-08-10T14:30:27.746Z"
   },
   {
    "duration": 88,
    "start_time": "2022-08-10T14:31:29.725Z"
   },
   {
    "duration": 75,
    "start_time": "2022-08-10T14:31:47.800Z"
   },
   {
    "duration": 80,
    "start_time": "2022-08-10T14:33:09.116Z"
   },
   {
    "duration": 9,
    "start_time": "2022-08-10T14:33:21.587Z"
   },
   {
    "duration": 11,
    "start_time": "2022-08-10T14:33:28.577Z"
   },
   {
    "duration": 6,
    "start_time": "2022-08-10T14:33:36.714Z"
   },
   {
    "duration": 7,
    "start_time": "2022-08-10T14:34:06.816Z"
   },
   {
    "duration": 6,
    "start_time": "2022-08-10T14:34:09.189Z"
   },
   {
    "duration": 8,
    "start_time": "2022-08-10T14:34:44.175Z"
   },
   {
    "duration": 6,
    "start_time": "2022-08-10T14:34:57.995Z"
   },
   {
    "duration": 108,
    "start_time": "2022-08-10T14:38:04.085Z"
   },
   {
    "duration": 96,
    "start_time": "2022-08-10T14:42:29.293Z"
   },
   {
    "duration": 7,
    "start_time": "2022-08-10T14:42:47.525Z"
   },
   {
    "duration": 7,
    "start_time": "2022-08-10T14:44:34.791Z"
   },
   {
    "duration": 7,
    "start_time": "2022-08-10T14:44:44.084Z"
   },
   {
    "duration": 7,
    "start_time": "2022-08-10T14:48:24.407Z"
   },
   {
    "duration": 2,
    "start_time": "2022-08-10T14:48:37.101Z"
   },
   {
    "duration": 3,
    "start_time": "2022-08-10T14:48:39.726Z"
   },
   {
    "duration": 3,
    "start_time": "2022-08-10T14:48:43.577Z"
   },
   {
    "duration": 7,
    "start_time": "2022-08-10T14:49:21.482Z"
   },
   {
    "duration": 3,
    "start_time": "2022-08-10T14:49:28.023Z"
   },
   {
    "duration": 3,
    "start_time": "2022-08-10T14:49:34.456Z"
   },
   {
    "duration": 1395,
    "start_time": "2022-08-10T14:49:50.855Z"
   },
   {
    "duration": 3,
    "start_time": "2022-08-10T14:50:04.599Z"
   },
   {
    "duration": 1976,
    "start_time": "2022-08-10T14:50:06.971Z"
   },
   {
    "duration": 3,
    "start_time": "2022-08-10T14:51:54.695Z"
   },
   {
    "duration": 1458,
    "start_time": "2022-08-10T14:51:56.693Z"
   },
   {
    "duration": 3,
    "start_time": "2022-08-10T14:52:12.284Z"
   },
   {
    "duration": 6,
    "start_time": "2022-08-10T14:52:14.862Z"
   },
   {
    "duration": 1253,
    "start_time": "2022-08-10T14:52:23.279Z"
   },
   {
    "duration": 85,
    "start_time": "2022-08-10T14:52:57.997Z"
   },
   {
    "duration": 2,
    "start_time": "2022-08-10T14:53:06.584Z"
   },
   {
    "duration": 7,
    "start_time": "2022-08-10T14:53:09.875Z"
   },
   {
    "duration": 3,
    "start_time": "2022-08-10T14:53:19.567Z"
   },
   {
    "duration": 6,
    "start_time": "2022-08-10T14:53:22.481Z"
   },
   {
    "duration": 1508,
    "start_time": "2022-08-10T14:53:35.607Z"
   },
   {
    "duration": 3,
    "start_time": "2022-08-10T14:53:52.336Z"
   },
   {
    "duration": 1334,
    "start_time": "2022-08-10T14:53:53.997Z"
   },
   {
    "duration": 1327,
    "start_time": "2022-08-10T14:54:33.924Z"
   },
   {
    "duration": 164,
    "start_time": "2022-08-10T14:56:47.897Z"
   },
   {
    "duration": 0,
    "start_time": "2022-08-10T14:56:48.065Z"
   },
   {
    "duration": 77,
    "start_time": "2022-08-10T14:56:49.972Z"
   },
   {
    "duration": 3,
    "start_time": "2022-08-10T14:57:02.393Z"
   },
   {
    "duration": 3,
    "start_time": "2022-08-10T14:57:20.229Z"
   },
   {
    "duration": 1471,
    "start_time": "2022-08-10T14:57:22.714Z"
   },
   {
    "duration": 1468,
    "start_time": "2022-08-10T14:57:49.118Z"
   },
   {
    "duration": 4,
    "start_time": "2022-08-10T14:57:50.801Z"
   },
   {
    "duration": 1346,
    "start_time": "2022-08-10T14:57:52.590Z"
   },
   {
    "duration": 81,
    "start_time": "2022-08-10T14:59:36.554Z"
   },
   {
    "duration": 77,
    "start_time": "2022-08-10T14:59:53.044Z"
   },
   {
    "duration": 4,
    "start_time": "2022-08-10T15:02:49.218Z"
   },
   {
    "duration": 4,
    "start_time": "2022-08-10T15:02:54.681Z"
   },
   {
    "duration": 1964,
    "start_time": "2022-08-10T15:02:58.584Z"
   },
   {
    "duration": 3,
    "start_time": "2022-08-10T15:03:10.514Z"
   },
   {
    "duration": 1434,
    "start_time": "2022-08-10T15:03:12.567Z"
   },
   {
    "duration": 3,
    "start_time": "2022-08-10T15:04:29.579Z"
   },
   {
    "duration": 1627,
    "start_time": "2022-08-10T15:04:31.234Z"
   },
   {
    "duration": 1539,
    "start_time": "2022-08-10T15:04:53.359Z"
   },
   {
    "duration": 3,
    "start_time": "2022-08-10T15:05:21.058Z"
   },
   {
    "duration": 1740,
    "start_time": "2022-08-10T15:05:27.702Z"
   },
   {
    "duration": 4,
    "start_time": "2022-08-10T15:05:47.654Z"
   },
   {
    "duration": 1435,
    "start_time": "2022-08-10T15:05:49.160Z"
   },
   {
    "duration": 3,
    "start_time": "2022-08-10T15:06:03.828Z"
   },
   {
    "duration": 1448,
    "start_time": "2022-08-10T15:06:06.169Z"
   },
   {
    "duration": 3,
    "start_time": "2022-08-10T15:06:37.901Z"
   },
   {
    "duration": 1393,
    "start_time": "2022-08-10T15:06:39.962Z"
   },
   {
    "duration": 531,
    "start_time": "2022-08-10T15:06:51.211Z"
   },
   {
    "duration": 115,
    "start_time": "2022-08-10T15:06:53.183Z"
   },
   {
    "duration": 4,
    "start_time": "2022-08-10T15:07:17.011Z"
   },
   {
    "duration": 516,
    "start_time": "2022-08-10T15:07:26.247Z"
   },
   {
    "duration": 147,
    "start_time": "2022-08-10T15:07:28.931Z"
   },
   {
    "duration": 7,
    "start_time": "2022-08-10T15:07:31.617Z"
   },
   {
    "duration": 3,
    "start_time": "2022-08-10T15:07:34.550Z"
   },
   {
    "duration": 3,
    "start_time": "2022-08-10T15:07:40.206Z"
   },
   {
    "duration": 12,
    "start_time": "2022-08-10T15:07:44.003Z"
   },
   {
    "duration": 3,
    "start_time": "2022-08-10T15:07:45.937Z"
   },
   {
    "duration": 36,
    "start_time": "2022-08-10T15:07:50.325Z"
   },
   {
    "duration": 16,
    "start_time": "2022-08-10T15:07:52.836Z"
   },
   {
    "duration": 22,
    "start_time": "2022-08-10T15:07:54.901Z"
   },
   {
    "duration": 55,
    "start_time": "2022-08-10T15:07:59.518Z"
   },
   {
    "duration": 118,
    "start_time": "2022-08-10T15:08:01.418Z"
   },
   {
    "duration": 60,
    "start_time": "2022-08-10T15:08:04.253Z"
   },
   {
    "duration": 7,
    "start_time": "2022-08-10T15:08:06.360Z"
   },
   {
    "duration": 9,
    "start_time": "2022-08-10T15:08:10.768Z"
   },
   {
    "duration": 7,
    "start_time": "2022-08-10T15:08:13.081Z"
   },
   {
    "duration": 7,
    "start_time": "2022-08-10T15:08:16.070Z"
   },
   {
    "duration": 27,
    "start_time": "2022-08-10T15:08:20.637Z"
   },
   {
    "duration": 29,
    "start_time": "2022-08-10T15:08:22.991Z"
   },
   {
    "duration": 3,
    "start_time": "2022-08-10T15:08:26.967Z"
   },
   {
    "duration": 67,
    "start_time": "2022-08-10T15:08:29.221Z"
   },
   {
    "duration": 4,
    "start_time": "2022-08-10T15:09:06.059Z"
   },
   {
    "duration": 15,
    "start_time": "2022-08-10T15:09:07.945Z"
   },
   {
    "duration": 3,
    "start_time": "2022-08-10T15:09:11.836Z"
   },
   {
    "duration": 11,
    "start_time": "2022-08-10T15:09:13.633Z"
   },
   {
    "duration": 4,
    "start_time": "2022-08-10T15:09:27.755Z"
   },
   {
    "duration": 19,
    "start_time": "2022-08-10T15:09:30.718Z"
   },
   {
    "duration": 8,
    "start_time": "2022-08-10T15:10:13.279Z"
   },
   {
    "duration": 16,
    "start_time": "2022-08-10T15:10:39.292Z"
   },
   {
    "duration": 18,
    "start_time": "2022-08-10T15:11:03.841Z"
   },
   {
    "duration": 16,
    "start_time": "2022-08-10T15:12:01.128Z"
   },
   {
    "duration": 19,
    "start_time": "2022-08-10T15:12:02.833Z"
   },
   {
    "duration": 16,
    "start_time": "2022-08-10T15:12:04.576Z"
   },
   {
    "duration": 4,
    "start_time": "2022-08-10T15:12:15.028Z"
   },
   {
    "duration": 16,
    "start_time": "2022-08-10T15:12:17.465Z"
   },
   {
    "duration": 16,
    "start_time": "2022-08-10T15:12:22.036Z"
   },
   {
    "duration": 3,
    "start_time": "2022-08-10T15:13:03.899Z"
   },
   {
    "duration": 14,
    "start_time": "2022-08-10T15:13:05.895Z"
   },
   {
    "duration": 16,
    "start_time": "2022-08-10T15:13:08.221Z"
   },
   {
    "duration": 16,
    "start_time": "2022-08-10T15:13:10.328Z"
   },
   {
    "duration": 14,
    "start_time": "2022-08-10T15:13:12.991Z"
   },
   {
    "duration": 14,
    "start_time": "2022-08-10T15:13:15.523Z"
   },
   {
    "duration": 14,
    "start_time": "2022-08-10T15:13:17.244Z"
   },
   {
    "duration": 3,
    "start_time": "2022-08-10T15:13:53.797Z"
   },
   {
    "duration": 17,
    "start_time": "2022-08-10T15:13:56.252Z"
   },
   {
    "duration": 16,
    "start_time": "2022-08-10T15:13:58.666Z"
   },
   {
    "duration": 17,
    "start_time": "2022-08-10T15:14:00.979Z"
   },
   {
    "duration": 3,
    "start_time": "2022-08-10T15:17:42.976Z"
   },
   {
    "duration": 22,
    "start_time": "2022-08-10T15:17:44.816Z"
   },
   {
    "duration": 24,
    "start_time": "2022-08-10T15:17:46.850Z"
   },
   {
    "duration": 14,
    "start_time": "2022-08-10T15:17:49.330Z"
   },
   {
    "duration": 3,
    "start_time": "2022-08-10T15:22:52.591Z"
   },
   {
    "duration": 16,
    "start_time": "2022-08-10T15:22:54.646Z"
   },
   {
    "duration": 14,
    "start_time": "2022-08-10T15:22:56.198Z"
   },
   {
    "duration": 14,
    "start_time": "2022-08-10T15:22:58.296Z"
   },
   {
    "duration": 13,
    "start_time": "2022-08-10T15:23:00.229Z"
   },
   {
    "duration": 15,
    "start_time": "2022-08-10T15:23:02.420Z"
   },
   {
    "duration": 13,
    "start_time": "2022-08-10T15:23:03.957Z"
   },
   {
    "duration": 963,
    "start_time": "2022-08-11T01:21:39.303Z"
   },
   {
    "duration": 160,
    "start_time": "2022-08-11T01:21:41.447Z"
   },
   {
    "duration": 17,
    "start_time": "2022-08-11T01:21:43.985Z"
   },
   {
    "duration": 3,
    "start_time": "2022-08-11T01:21:46.036Z"
   },
   {
    "duration": 3,
    "start_time": "2022-08-11T01:21:49.038Z"
   },
   {
    "duration": 14,
    "start_time": "2022-08-11T01:21:51.110Z"
   },
   {
    "duration": 4,
    "start_time": "2022-08-11T01:21:52.479Z"
   },
   {
    "duration": 32,
    "start_time": "2022-08-11T01:21:54.874Z"
   },
   {
    "duration": 17,
    "start_time": "2022-08-11T01:21:57.212Z"
   },
   {
    "duration": 24,
    "start_time": "2022-08-11T01:21:59.445Z"
   },
   {
    "duration": 76,
    "start_time": "2022-08-11T01:22:01.630Z"
   },
   {
    "duration": 140,
    "start_time": "2022-08-11T01:22:03.120Z"
   },
   {
    "duration": 66,
    "start_time": "2022-08-11T01:22:04.668Z"
   },
   {
    "duration": 7,
    "start_time": "2022-08-11T01:22:07.470Z"
   },
   {
    "duration": 12,
    "start_time": "2022-08-11T01:22:11.058Z"
   },
   {
    "duration": 7,
    "start_time": "2022-08-11T01:22:13.216Z"
   },
   {
    "duration": 7,
    "start_time": "2022-08-11T01:22:21.211Z"
   },
   {
    "duration": 7,
    "start_time": "2022-08-11T01:22:23.631Z"
   },
   {
    "duration": 32,
    "start_time": "2022-08-11T01:22:28.248Z"
   },
   {
    "duration": 32,
    "start_time": "2022-08-11T01:22:30.418Z"
   },
   {
    "duration": 3,
    "start_time": "2022-08-11T01:22:32.779Z"
   },
   {
    "duration": 16,
    "start_time": "2022-08-11T01:22:34.804Z"
   },
   {
    "duration": 16,
    "start_time": "2022-08-11T01:22:36.411Z"
   },
   {
    "duration": 15,
    "start_time": "2022-08-11T01:22:39.204Z"
   },
   {
    "duration": 15,
    "start_time": "2022-08-11T01:22:40.370Z"
   },
   {
    "duration": 17,
    "start_time": "2022-08-11T01:22:41.444Z"
   },
   {
    "duration": 14,
    "start_time": "2022-08-11T01:22:43.257Z"
   },
   {
    "duration": 66,
    "start_time": "2022-08-11T01:58:12.271Z"
   },
   {
    "duration": 12,
    "start_time": "2022-08-11T02:01:48.152Z"
   },
   {
    "duration": 2,
    "start_time": "2022-08-11T02:02:08.103Z"
   },
   {
    "duration": 3,
    "start_time": "2022-08-11T02:02:18.844Z"
   },
   {
    "duration": 4,
    "start_time": "2022-08-11T02:02:38.045Z"
   },
   {
    "duration": 9,
    "start_time": "2022-08-11T02:15:45.904Z"
   },
   {
    "duration": 8,
    "start_time": "2022-08-11T02:15:56.755Z"
   },
   {
    "duration": 12,
    "start_time": "2022-08-11T02:16:42.217Z"
   },
   {
    "duration": 609,
    "start_time": "2022-08-11T02:35:20.338Z"
   },
   {
    "duration": 149,
    "start_time": "2022-08-11T02:35:37.330Z"
   },
   {
    "duration": 205,
    "start_time": "2022-08-11T02:35:54.003Z"
   },
   {
    "duration": 7,
    "start_time": "2022-08-11T02:36:05.908Z"
   },
   {
    "duration": 13,
    "start_time": "2022-08-11T02:37:40.689Z"
   },
   {
    "duration": 165,
    "start_time": "2022-08-11T02:53:12.391Z"
   },
   {
    "duration": 647,
    "start_time": "2022-08-11T12:57:10.892Z"
   },
   {
    "duration": 127,
    "start_time": "2022-08-11T12:57:13.365Z"
   },
   {
    "duration": 8,
    "start_time": "2022-08-11T12:57:15.998Z"
   },
   {
    "duration": 3,
    "start_time": "2022-08-11T12:57:20.024Z"
   },
   {
    "duration": 3,
    "start_time": "2022-08-11T12:57:24.425Z"
   },
   {
    "duration": 12,
    "start_time": "2022-08-11T12:57:26.462Z"
   },
   {
    "duration": 3,
    "start_time": "2022-08-11T12:57:28.846Z"
   },
   {
    "duration": 22,
    "start_time": "2022-08-11T12:57:31.074Z"
   },
   {
    "duration": 16,
    "start_time": "2022-08-11T12:57:33.527Z"
   },
   {
    "duration": 30,
    "start_time": "2022-08-11T12:57:35.677Z"
   },
   {
    "duration": 57,
    "start_time": "2022-08-11T12:57:38.578Z"
   },
   {
    "duration": 131,
    "start_time": "2022-08-11T12:57:42.032Z"
   },
   {
    "duration": 56,
    "start_time": "2022-08-11T12:57:45.120Z"
   },
   {
    "duration": 7,
    "start_time": "2022-08-11T12:57:48.930Z"
   },
   {
    "duration": 10,
    "start_time": "2022-08-11T12:57:53.616Z"
   },
   {
    "duration": 8,
    "start_time": "2022-08-11T12:57:55.817Z"
   },
   {
    "duration": 7,
    "start_time": "2022-08-11T12:58:00.824Z"
   },
   {
    "duration": 29,
    "start_time": "2022-08-11T12:58:05.375Z"
   },
   {
    "duration": 28,
    "start_time": "2022-08-11T12:58:07.844Z"
   },
   {
    "duration": 3,
    "start_time": "2022-08-11T12:58:12.573Z"
   },
   {
    "duration": 15,
    "start_time": "2022-08-11T12:58:16.331Z"
   },
   {
    "duration": 12,
    "start_time": "2022-08-11T12:58:18.982Z"
   },
   {
    "duration": 14,
    "start_time": "2022-08-11T12:58:21.283Z"
   },
   {
    "duration": 15,
    "start_time": "2022-08-11T12:58:23.179Z"
   },
   {
    "duration": 16,
    "start_time": "2022-08-11T12:58:25.692Z"
   },
   {
    "duration": 14,
    "start_time": "2022-08-11T12:58:27.475Z"
   },
   {
    "duration": 4,
    "start_time": "2022-08-11T13:02:32.897Z"
   },
   {
    "duration": 62,
    "start_time": "2022-08-11T13:03:14.821Z"
   },
   {
    "duration": 7,
    "start_time": "2022-08-11T13:04:24.538Z"
   },
   {
    "duration": 8,
    "start_time": "2022-08-11T13:05:28.932Z"
   },
   {
    "duration": 9,
    "start_time": "2022-08-11T13:05:37.265Z"
   },
   {
    "duration": 14,
    "start_time": "2022-08-11T13:05:43.221Z"
   },
   {
    "duration": 30,
    "start_time": "2022-08-11T13:09:21.423Z"
   },
   {
    "duration": 29,
    "start_time": "2022-08-11T13:09:39.227Z"
   },
   {
    "duration": 29,
    "start_time": "2022-08-11T13:09:45.593Z"
   },
   {
    "duration": 32,
    "start_time": "2022-08-11T13:09:58.654Z"
   },
   {
    "duration": 31,
    "start_time": "2022-08-11T13:10:26.131Z"
   },
   {
    "duration": 33,
    "start_time": "2022-08-11T13:10:34.649Z"
   },
   {
    "duration": 32,
    "start_time": "2022-08-11T13:10:41.889Z"
   },
   {
    "duration": 29,
    "start_time": "2022-08-11T13:13:27.604Z"
   },
   {
    "duration": 29,
    "start_time": "2022-08-11T13:13:39.232Z"
   },
   {
    "duration": 36,
    "start_time": "2022-08-11T13:14:44.656Z"
   },
   {
    "duration": 155,
    "start_time": "2022-08-11T13:15:09.127Z"
   },
   {
    "duration": 34,
    "start_time": "2022-08-11T13:15:18.030Z"
   },
   {
    "duration": 37,
    "start_time": "2022-08-11T13:15:30.479Z"
   },
   {
    "duration": 45,
    "start_time": "2022-08-11T13:15:34.408Z"
   },
   {
    "duration": 30,
    "start_time": "2022-08-11T13:16:12.319Z"
   },
   {
    "duration": 31,
    "start_time": "2022-08-11T13:17:52.305Z"
   },
   {
    "duration": 87,
    "start_time": "2022-08-11T13:19:16.920Z"
   },
   {
    "duration": 85,
    "start_time": "2022-08-11T13:19:30.476Z"
   },
   {
    "duration": 94,
    "start_time": "2022-08-11T13:19:33.738Z"
   },
   {
    "duration": 31,
    "start_time": "2022-08-11T13:19:47.892Z"
   },
   {
    "duration": 8,
    "start_time": "2022-08-11T13:22:25.790Z"
   },
   {
    "duration": 8,
    "start_time": "2022-08-11T13:22:38.617Z"
   },
   {
    "duration": 8,
    "start_time": "2022-08-11T13:22:48.070Z"
   },
   {
    "duration": 7,
    "start_time": "2022-08-11T13:22:53.020Z"
   },
   {
    "duration": 7,
    "start_time": "2022-08-11T13:23:09.425Z"
   },
   {
    "duration": 26,
    "start_time": "2022-08-11T13:23:35.358Z"
   },
   {
    "duration": 54,
    "start_time": "2022-08-11T13:23:52.536Z"
   },
   {
    "duration": 53,
    "start_time": "2022-08-11T13:23:59.704Z"
   },
   {
    "duration": 52,
    "start_time": "2022-08-11T13:24:03.951Z"
   },
   {
    "duration": 50,
    "start_time": "2022-08-11T13:24:48.134Z"
   },
   {
    "duration": 57,
    "start_time": "2022-08-11T13:25:47.914Z"
   },
   {
    "duration": 53,
    "start_time": "2022-08-11T13:25:51.857Z"
   },
   {
    "duration": 69,
    "start_time": "2022-08-11T13:26:16.585Z"
   },
   {
    "duration": 71,
    "start_time": "2022-08-11T13:26:20.707Z"
   },
   {
    "duration": 88,
    "start_time": "2022-08-11T13:36:30.795Z"
   },
   {
    "duration": 47,
    "start_time": "2022-08-11T13:37:05.387Z"
   },
   {
    "duration": 53,
    "start_time": "2022-08-11T14:43:18.873Z"
   },
   {
    "duration": 99,
    "start_time": "2022-08-11T14:44:21.963Z"
   },
   {
    "duration": 59,
    "start_time": "2022-08-11T14:44:35.644Z"
   },
   {
    "duration": 3,
    "start_time": "2022-08-11T14:45:39.038Z"
   },
   {
    "duration": 20,
    "start_time": "2022-08-11T14:45:42.526Z"
   },
   {
    "duration": 3,
    "start_time": "2022-08-11T14:46:00.741Z"
   },
   {
    "duration": 16,
    "start_time": "2022-08-11T14:46:12.467Z"
   },
   {
    "duration": 7,
    "start_time": "2022-08-11T14:46:40.044Z"
   },
   {
    "duration": 11,
    "start_time": "2022-08-11T14:46:52.811Z"
   },
   {
    "duration": 7,
    "start_time": "2022-08-11T14:47:12.620Z"
   },
   {
    "duration": 78,
    "start_time": "2022-08-11T14:54:05.349Z"
   },
   {
    "duration": 99,
    "start_time": "2022-08-11T14:57:05.793Z"
   },
   {
    "duration": 110,
    "start_time": "2022-08-11T15:00:14.806Z"
   },
   {
    "duration": 110,
    "start_time": "2022-08-11T15:00:28.707Z"
   },
   {
    "duration": 95,
    "start_time": "2022-08-11T15:00:35.774Z"
   },
   {
    "duration": 115,
    "start_time": "2022-08-11T15:01:40.143Z"
   },
   {
    "duration": 3,
    "start_time": "2022-08-11T15:02:02.327Z"
   },
   {
    "duration": 15,
    "start_time": "2022-08-11T15:02:05.360Z"
   },
   {
    "duration": 13,
    "start_time": "2022-08-11T15:02:07.891Z"
   },
   {
    "duration": 101,
    "start_time": "2022-08-11T15:02:27.705Z"
   },
   {
    "duration": 14,
    "start_time": "2022-08-11T15:02:30.565Z"
   },
   {
    "duration": 12,
    "start_time": "2022-08-11T15:02:32.371Z"
   },
   {
    "duration": 15,
    "start_time": "2022-08-11T15:02:34.266Z"
   },
   {
    "duration": 13,
    "start_time": "2022-08-11T15:02:37.966Z"
   },
   {
    "duration": 106,
    "start_time": "2022-08-11T15:02:44.843Z"
   },
   {
    "duration": 123,
    "start_time": "2022-08-11T15:03:02.506Z"
   },
   {
    "duration": 143,
    "start_time": "2022-08-11T15:03:15.569Z"
   },
   {
    "duration": 89,
    "start_time": "2022-08-11T15:03:22.323Z"
   },
   {
    "duration": 96,
    "start_time": "2022-08-11T15:03:33.098Z"
   },
   {
    "duration": 15,
    "start_time": "2022-08-11T15:03:37.127Z"
   },
   {
    "duration": 69,
    "start_time": "2022-08-11T15:04:29.646Z"
   },
   {
    "duration": 72,
    "start_time": "2022-08-11T15:13:26.308Z"
   },
   {
    "duration": 70,
    "start_time": "2022-08-11T15:13:37.566Z"
   },
   {
    "duration": 594,
    "start_time": "2022-08-12T03:16:41.025Z"
   },
   {
    "duration": 112,
    "start_time": "2022-08-12T03:16:42.780Z"
   },
   {
    "duration": 7,
    "start_time": "2022-08-12T03:16:45.285Z"
   },
   {
    "duration": 4,
    "start_time": "2022-08-12T03:16:47.574Z"
   },
   {
    "duration": 3,
    "start_time": "2022-08-12T03:16:49.655Z"
   },
   {
    "duration": 3,
    "start_time": "2022-08-12T03:16:52.857Z"
   },
   {
    "duration": 13,
    "start_time": "2022-08-12T03:16:54.475Z"
   },
   {
    "duration": 4,
    "start_time": "2022-08-12T03:16:55.817Z"
   },
   {
    "duration": 20,
    "start_time": "2022-08-12T03:16:57.498Z"
   },
   {
    "duration": 16,
    "start_time": "2022-08-12T03:16:59.019Z"
   },
   {
    "duration": 20,
    "start_time": "2022-08-12T03:17:00.789Z"
   },
   {
    "duration": 53,
    "start_time": "2022-08-12T03:17:02.424Z"
   },
   {
    "duration": 123,
    "start_time": "2022-08-12T03:17:03.922Z"
   },
   {
    "duration": 52,
    "start_time": "2022-08-12T03:17:05.045Z"
   },
   {
    "duration": 6,
    "start_time": "2022-08-12T03:17:06.945Z"
   },
   {
    "duration": 9,
    "start_time": "2022-08-12T03:17:09.753Z"
   },
   {
    "duration": 6,
    "start_time": "2022-08-12T03:17:11.388Z"
   },
   {
    "duration": 6,
    "start_time": "2022-08-12T03:17:14.341Z"
   },
   {
    "duration": 25,
    "start_time": "2022-08-12T03:17:17.440Z"
   },
   {
    "duration": 30,
    "start_time": "2022-08-12T03:17:19.298Z"
   },
   {
    "duration": 3,
    "start_time": "2022-08-12T03:17:21.819Z"
   },
   {
    "duration": 15,
    "start_time": "2022-08-12T03:17:23.565Z"
   },
   {
    "duration": 13,
    "start_time": "2022-08-12T03:17:24.863Z"
   },
   {
    "duration": 13,
    "start_time": "2022-08-12T03:17:26.353Z"
   },
   {
    "duration": 14,
    "start_time": "2022-08-12T03:17:27.972Z"
   },
   {
    "duration": 13,
    "start_time": "2022-08-12T03:17:29.669Z"
   },
   {
    "duration": 13,
    "start_time": "2022-08-12T03:17:31.592Z"
   },
   {
    "duration": 89,
    "start_time": "2022-08-12T03:21:39.736Z"
   },
   {
    "duration": 3,
    "start_time": "2022-08-12T03:21:53.317Z"
   },
   {
    "duration": 83,
    "start_time": "2022-08-12T03:25:11.546Z"
   },
   {
    "duration": 72,
    "start_time": "2022-08-12T03:25:20.190Z"
   },
   {
    "duration": 84,
    "start_time": "2022-08-12T03:25:31.379Z"
   },
   {
    "duration": 140,
    "start_time": "2022-08-12T03:25:36.286Z"
   },
   {
    "duration": 84,
    "start_time": "2022-08-12T03:25:45.094Z"
   },
   {
    "duration": 58,
    "start_time": "2022-08-12T03:26:00.132Z"
   },
   {
    "duration": 84,
    "start_time": "2022-08-12T03:26:13.742Z"
   },
   {
    "duration": 10,
    "start_time": "2022-08-12T03:30:32.967Z"
   },
   {
    "duration": 78,
    "start_time": "2022-08-12T03:30:38.412Z"
   },
   {
    "duration": 15,
    "start_time": "2022-08-12T03:32:02.090Z"
   },
   {
    "duration": 12,
    "start_time": "2022-08-12T03:32:21.934Z"
   },
   {
    "duration": 15,
    "start_time": "2022-08-12T04:16:35.001Z"
   },
   {
    "duration": 13,
    "start_time": "2022-08-12T04:16:39.455Z"
   },
   {
    "duration": 15,
    "start_time": "2022-08-12T04:16:43.423Z"
   },
   {
    "duration": 13,
    "start_time": "2022-08-12T04:16:47.094Z"
   },
   {
    "duration": 10,
    "start_time": "2022-08-12T04:16:57.555Z"
   },
   {
    "duration": 7,
    "start_time": "2022-08-12T04:18:04.381Z"
   },
   {
    "duration": 13,
    "start_time": "2022-08-12T04:25:57.921Z"
   },
   {
    "duration": 13,
    "start_time": "2022-08-12T04:26:15.364Z"
   },
   {
    "duration": 10,
    "start_time": "2022-08-12T04:26:36.051Z"
   },
   {
    "duration": 14,
    "start_time": "2022-08-12T04:44:04.224Z"
   },
   {
    "duration": 8,
    "start_time": "2022-08-12T04:44:46.425Z"
   },
   {
    "duration": 8,
    "start_time": "2022-08-12T04:45:04.996Z"
   },
   {
    "duration": 75,
    "start_time": "2022-08-12T04:54:41.047Z"
   },
   {
    "duration": 3,
    "start_time": "2022-08-12T04:55:08.251Z"
   },
   {
    "duration": 4,
    "start_time": "2022-08-12T04:55:11.540Z"
   },
   {
    "duration": 5,
    "start_time": "2022-08-12T04:55:16.787Z"
   },
   {
    "duration": 639,
    "start_time": "2022-08-12T12:48:49.300Z"
   },
   {
    "duration": 136,
    "start_time": "2022-08-12T12:48:51.161Z"
   },
   {
    "duration": 6,
    "start_time": "2022-08-12T12:48:53.362Z"
   },
   {
    "duration": 4,
    "start_time": "2022-08-12T12:48:56.152Z"
   },
   {
    "duration": 4,
    "start_time": "2022-08-12T12:48:59.328Z"
   },
   {
    "duration": 13,
    "start_time": "2022-08-12T12:49:01.299Z"
   },
   {
    "duration": 4,
    "start_time": "2022-08-12T12:49:03.268Z"
   },
   {
    "duration": 23,
    "start_time": "2022-08-12T12:49:05.530Z"
   },
   {
    "duration": 17,
    "start_time": "2022-08-12T12:49:08.137Z"
   },
   {
    "duration": 26,
    "start_time": "2022-08-12T12:49:10.710Z"
   },
   {
    "duration": 56,
    "start_time": "2022-08-12T12:49:12.703Z"
   },
   {
    "duration": 134,
    "start_time": "2022-08-12T12:49:14.821Z"
   },
   {
    "duration": 58,
    "start_time": "2022-08-12T12:49:17.031Z"
   },
   {
    "duration": 7,
    "start_time": "2022-08-12T12:49:19.348Z"
   },
   {
    "duration": 10,
    "start_time": "2022-08-12T12:49:23.917Z"
   },
   {
    "duration": 9,
    "start_time": "2022-08-12T12:49:26.450Z"
   },
   {
    "duration": 6,
    "start_time": "2022-08-12T12:49:29.023Z"
   },
   {
    "duration": 32,
    "start_time": "2022-08-12T12:49:33.383Z"
   },
   {
    "duration": 29,
    "start_time": "2022-08-12T12:49:35.429Z"
   },
   {
    "duration": 3,
    "start_time": "2022-08-12T12:49:37.934Z"
   },
   {
    "duration": 20,
    "start_time": "2022-08-12T12:49:40.681Z"
   },
   {
    "duration": 14,
    "start_time": "2022-08-12T12:49:42.306Z"
   },
   {
    "duration": 15,
    "start_time": "2022-08-12T12:49:43.816Z"
   },
   {
    "duration": 14,
    "start_time": "2022-08-12T12:49:45.399Z"
   },
   {
    "duration": 16,
    "start_time": "2022-08-12T12:49:47.221Z"
   },
   {
    "duration": 12,
    "start_time": "2022-08-12T12:49:48.673Z"
   },
   {
    "duration": 5,
    "start_time": "2022-08-12T12:49:51.318Z"
   },
   {
    "duration": 132,
    "start_time": "2022-08-12T13:23:12.025Z"
   },
   {
    "duration": 67,
    "start_time": "2022-08-12T13:23:21.145Z"
   },
   {
    "duration": 14,
    "start_time": "2022-08-12T13:23:54.827Z"
   },
   {
    "duration": 12,
    "start_time": "2022-08-12T13:24:34.833Z"
   },
   {
    "duration": 13,
    "start_time": "2022-08-12T13:24:47.499Z"
   },
   {
    "duration": 13,
    "start_time": "2022-08-12T13:25:11.526Z"
   },
   {
    "duration": 13,
    "start_time": "2022-08-12T13:25:28.774Z"
   },
   {
    "duration": 6,
    "start_time": "2022-08-12T13:26:31.579Z"
   },
   {
    "duration": 6,
    "start_time": "2022-08-12T13:27:04.052Z"
   },
   {
    "duration": 11,
    "start_time": "2022-08-12T13:29:25.782Z"
   },
   {
    "duration": 12,
    "start_time": "2022-08-12T13:29:56.100Z"
   },
   {
    "duration": 11,
    "start_time": "2022-08-12T13:30:03.674Z"
   },
   {
    "duration": 9,
    "start_time": "2022-08-12T13:30:05.313Z"
   },
   {
    "duration": 83,
    "start_time": "2022-08-12T13:39:29.063Z"
   },
   {
    "duration": 90,
    "start_time": "2022-08-12T13:54:27.172Z"
   },
   {
    "duration": 116,
    "start_time": "2022-08-12T14:22:53.306Z"
   },
   {
    "duration": 86,
    "start_time": "2022-08-12T14:23:21.695Z"
   },
   {
    "duration": 100,
    "start_time": "2022-08-12T14:23:40.016Z"
   },
   {
    "duration": 84,
    "start_time": "2022-08-12T14:24:50.204Z"
   },
   {
    "duration": 3,
    "start_time": "2022-08-12T14:24:53.874Z"
   },
   {
    "duration": 7,
    "start_time": "2022-08-12T14:26:47.189Z"
   },
   {
    "duration": 41,
    "start_time": "2022-08-12T14:26:50.207Z"
   },
   {
    "duration": 6,
    "start_time": "2022-08-12T14:26:55.489Z"
   },
   {
    "duration": 632,
    "start_time": "2022-08-12T14:27:17.484Z"
   },
   {
    "duration": 123,
    "start_time": "2022-08-12T14:27:19.480Z"
   },
   {
    "duration": 7,
    "start_time": "2022-08-12T14:27:21.974Z"
   },
   {
    "duration": 3,
    "start_time": "2022-08-12T14:27:24.446Z"
   },
   {
    "duration": 3,
    "start_time": "2022-08-12T14:27:27.846Z"
   },
   {
    "duration": 13,
    "start_time": "2022-08-12T14:27:30.000Z"
   },
   {
    "duration": 3,
    "start_time": "2022-08-12T14:27:32.075Z"
   },
   {
    "duration": 23,
    "start_time": "2022-08-12T14:27:33.914Z"
   },
   {
    "duration": 20,
    "start_time": "2022-08-12T14:27:36.242Z"
   },
   {
    "duration": 22,
    "start_time": "2022-08-12T14:27:38.502Z"
   },
   {
    "duration": 61,
    "start_time": "2022-08-12T14:27:40.315Z"
   },
   {
    "duration": 120,
    "start_time": "2022-08-12T14:27:42.224Z"
   },
   {
    "duration": 54,
    "start_time": "2022-08-12T14:27:43.904Z"
   },
   {
    "duration": 10,
    "start_time": "2022-08-12T14:27:46.009Z"
   },
   {
    "duration": 10,
    "start_time": "2022-08-12T14:27:49.432Z"
   },
   {
    "duration": 7,
    "start_time": "2022-08-12T14:27:51.655Z"
   },
   {
    "duration": 7,
    "start_time": "2022-08-12T14:27:54.239Z"
   },
   {
    "duration": 31,
    "start_time": "2022-08-12T14:27:59.648Z"
   },
   {
    "duration": 29,
    "start_time": "2022-08-12T14:28:01.927Z"
   },
   {
    "duration": 3,
    "start_time": "2022-08-12T14:28:04.855Z"
   },
   {
    "duration": 16,
    "start_time": "2022-08-12T14:28:07.571Z"
   },
   {
    "duration": 14,
    "start_time": "2022-08-12T14:28:09.267Z"
   },
   {
    "duration": 14,
    "start_time": "2022-08-12T14:28:10.959Z"
   },
   {
    "duration": 13,
    "start_time": "2022-08-12T14:28:12.495Z"
   },
   {
    "duration": 21,
    "start_time": "2022-08-12T14:28:14.950Z"
   },
   {
    "duration": 6,
    "start_time": "2022-08-12T14:28:17.523Z"
   },
   {
    "duration": 11,
    "start_time": "2022-08-12T14:28:22.133Z"
   },
   {
    "duration": 10,
    "start_time": "2022-08-12T14:28:24.395Z"
   },
   {
    "duration": 3,
    "start_time": "2022-08-12T14:28:27.674Z"
   },
   {
    "duration": 643,
    "start_time": "2022-08-12T14:30:22.275Z"
   },
   {
    "duration": 133,
    "start_time": "2022-08-12T14:30:24.450Z"
   },
   {
    "duration": 7,
    "start_time": "2022-08-12T14:30:27.797Z"
   },
   {
    "duration": 3,
    "start_time": "2022-08-12T14:30:30.727Z"
   },
   {
    "duration": 4,
    "start_time": "2022-08-12T14:30:34.746Z"
   },
   {
    "duration": 13,
    "start_time": "2022-08-12T14:30:38.724Z"
   },
   {
    "duration": 3,
    "start_time": "2022-08-12T14:30:40.176Z"
   },
   {
    "duration": 23,
    "start_time": "2022-08-12T14:30:42.337Z"
   },
   {
    "duration": 17,
    "start_time": "2022-08-12T14:30:45.261Z"
   },
   {
    "duration": 6,
    "start_time": "2022-08-12T14:32:30.970Z"
   },
   {
    "duration": 22,
    "start_time": "2022-08-12T14:32:39.029Z"
   },
   {
    "duration": 56,
    "start_time": "2022-08-12T14:32:41.788Z"
   },
   {
    "duration": 124,
    "start_time": "2022-08-12T14:32:43.540Z"
   },
   {
    "duration": 72,
    "start_time": "2022-08-12T14:32:45.434Z"
   },
   {
    "duration": 8,
    "start_time": "2022-08-12T14:32:47.742Z"
   },
   {
    "duration": 10,
    "start_time": "2022-08-12T14:32:50.526Z"
   },
   {
    "duration": 6,
    "start_time": "2022-08-12T14:32:52.975Z"
   },
   {
    "duration": 8,
    "start_time": "2022-08-12T14:32:55.518Z"
   },
   {
    "duration": 28,
    "start_time": "2022-08-12T14:32:59.868Z"
   },
   {
    "duration": 34,
    "start_time": "2022-08-12T14:33:01.941Z"
   },
   {
    "duration": 3,
    "start_time": "2022-08-12T14:33:04.537Z"
   },
   {
    "duration": 15,
    "start_time": "2022-08-12T14:33:07.351Z"
   },
   {
    "duration": 13,
    "start_time": "2022-08-12T14:33:09.006Z"
   },
   {
    "duration": 13,
    "start_time": "2022-08-12T14:33:09.930Z"
   },
   {
    "duration": 18,
    "start_time": "2022-08-12T14:33:10.520Z"
   },
   {
    "duration": 15,
    "start_time": "2022-08-12T14:33:11.152Z"
   },
   {
    "duration": 14,
    "start_time": "2022-08-12T14:33:11.757Z"
   },
   {
    "duration": 7,
    "start_time": "2022-08-12T14:33:14.357Z"
   },
   {
    "duration": 10,
    "start_time": "2022-08-12T14:33:18.979Z"
   },
   {
    "duration": 9,
    "start_time": "2022-08-12T14:33:19.851Z"
   },
   {
    "duration": 93,
    "start_time": "2022-08-12T14:33:20.950Z"
   },
   {
    "duration": 62,
    "start_time": "2022-08-12T14:33:22.588Z"
   },
   {
    "duration": 84,
    "start_time": "2022-08-12T14:33:38.531Z"
   },
   {
    "duration": 4,
    "start_time": "2022-08-12T14:33:53.159Z"
   },
   {
    "duration": 659,
    "start_time": "2022-08-12T14:36:00.573Z"
   },
   {
    "duration": 133,
    "start_time": "2022-08-12T14:36:01.447Z"
   },
   {
    "duration": 7,
    "start_time": "2022-08-12T14:36:02.248Z"
   },
   {
    "duration": 4,
    "start_time": "2022-08-12T14:36:03.138Z"
   },
   {
    "duration": 4,
    "start_time": "2022-08-12T14:36:04.512Z"
   },
   {
    "duration": 13,
    "start_time": "2022-08-12T14:36:04.978Z"
   },
   {
    "duration": 3,
    "start_time": "2022-08-12T14:36:05.346Z"
   },
   {
    "duration": 23,
    "start_time": "2022-08-12T14:36:05.848Z"
   },
   {
    "duration": 23,
    "start_time": "2022-08-12T14:36:06.389Z"
   },
   {
    "duration": 24,
    "start_time": "2022-08-12T14:36:06.757Z"
   },
   {
    "duration": 60,
    "start_time": "2022-08-12T14:36:07.270Z"
   },
   {
    "duration": 125,
    "start_time": "2022-08-12T14:36:07.711Z"
   },
   {
    "duration": 57,
    "start_time": "2022-08-12T14:36:08.104Z"
   },
   {
    "duration": 6,
    "start_time": "2022-08-12T14:36:08.706Z"
   },
   {
    "duration": 9,
    "start_time": "2022-08-12T14:36:09.065Z"
   },
   {
    "duration": 7,
    "start_time": "2022-08-12T14:36:09.636Z"
   },
   {
    "duration": 7,
    "start_time": "2022-08-12T14:36:10.002Z"
   },
   {
    "duration": 28,
    "start_time": "2022-08-12T14:36:11.532Z"
   },
   {
    "duration": 36,
    "start_time": "2022-08-12T14:36:12.020Z"
   },
   {
    "duration": 3,
    "start_time": "2022-08-12T14:36:12.593Z"
   },
   {
    "duration": 16,
    "start_time": "2022-08-12T14:36:12.975Z"
   },
   {
    "duration": 14,
    "start_time": "2022-08-12T14:36:13.179Z"
   },
   {
    "duration": 14,
    "start_time": "2022-08-12T14:36:13.398Z"
   },
   {
    "duration": 13,
    "start_time": "2022-08-12T14:36:13.659Z"
   },
   {
    "duration": 15,
    "start_time": "2022-08-12T14:36:13.834Z"
   },
   {
    "duration": 14,
    "start_time": "2022-08-12T14:36:14.059Z"
   },
   {
    "duration": 6,
    "start_time": "2022-08-12T14:36:14.410Z"
   },
   {
    "duration": 11,
    "start_time": "2022-08-12T14:36:15.893Z"
   },
   {
    "duration": 10,
    "start_time": "2022-08-12T14:36:16.659Z"
   },
   {
    "duration": 3,
    "start_time": "2022-08-12T14:38:45.026Z"
   },
   {
    "duration": 90,
    "start_time": "2022-08-12T14:39:12.389Z"
   },
   {
    "duration": 106,
    "start_time": "2022-08-12T14:39:20.988Z"
   },
   {
    "duration": 4,
    "start_time": "2022-08-12T14:40:57.061Z"
   },
   {
    "duration": 44,
    "start_time": "2022-08-12T14:40:59.944Z"
   },
   {
    "duration": 642,
    "start_time": "2022-08-12T14:41:09.843Z"
   },
   {
    "duration": 129,
    "start_time": "2022-08-12T14:41:10.489Z"
   },
   {
    "duration": 7,
    "start_time": "2022-08-12T14:41:10.620Z"
   },
   {
    "duration": 4,
    "start_time": "2022-08-12T14:41:10.865Z"
   },
   {
    "duration": 4,
    "start_time": "2022-08-12T14:41:12.347Z"
   },
   {
    "duration": 13,
    "start_time": "2022-08-12T14:41:12.512Z"
   },
   {
    "duration": 4,
    "start_time": "2022-08-12T14:41:12.677Z"
   },
   {
    "duration": 25,
    "start_time": "2022-08-12T14:41:12.933Z"
   },
   {
    "duration": 18,
    "start_time": "2022-08-12T14:41:13.184Z"
   },
   {
    "duration": 23,
    "start_time": "2022-08-12T14:41:13.350Z"
   },
   {
    "duration": 62,
    "start_time": "2022-08-12T14:41:13.599Z"
   },
   {
    "duration": 130,
    "start_time": "2022-08-12T14:41:13.766Z"
   },
   {
    "duration": 59,
    "start_time": "2022-08-12T14:41:13.933Z"
   },
   {
    "duration": 7,
    "start_time": "2022-08-12T14:41:14.182Z"
   },
   {
    "duration": 9,
    "start_time": "2022-08-12T14:41:14.348Z"
   },
   {
    "duration": 7,
    "start_time": "2022-08-12T14:41:14.516Z"
   },
   {
    "duration": 6,
    "start_time": "2022-08-12T14:41:14.978Z"
   },
   {
    "duration": 30,
    "start_time": "2022-08-12T14:41:16.814Z"
   },
   {
    "duration": 29,
    "start_time": "2022-08-12T14:41:17.205Z"
   },
   {
    "duration": 3,
    "start_time": "2022-08-12T14:41:17.756Z"
   },
   {
    "duration": 15,
    "start_time": "2022-08-12T14:41:18.195Z"
   },
   {
    "duration": 13,
    "start_time": "2022-08-12T14:41:18.379Z"
   },
   {
    "duration": 16,
    "start_time": "2022-08-12T14:41:18.553Z"
   },
   {
    "duration": 14,
    "start_time": "2022-08-12T14:41:18.727Z"
   },
   {
    "duration": 15,
    "start_time": "2022-08-12T14:41:18.910Z"
   },
   {
    "duration": 13,
    "start_time": "2022-08-12T14:41:19.149Z"
   },
   {
    "duration": 6,
    "start_time": "2022-08-12T14:41:19.684Z"
   },
   {
    "duration": 14,
    "start_time": "2022-08-12T14:41:22.092Z"
   },
   {
    "duration": 9,
    "start_time": "2022-08-12T14:41:22.498Z"
   },
   {
    "duration": 5,
    "start_time": "2022-08-12T14:41:23.257Z"
   },
   {
    "duration": 94,
    "start_time": "2022-08-12T14:41:41.184Z"
   },
   {
    "duration": 80,
    "start_time": "2022-08-12T14:43:06.944Z"
   },
   {
    "duration": 91,
    "start_time": "2022-08-12T14:43:27.757Z"
   },
   {
    "duration": 3,
    "start_time": "2022-08-12T14:43:48.295Z"
   },
   {
    "duration": 48,
    "start_time": "2022-08-12T14:44:01.658Z"
   },
   {
    "duration": 611,
    "start_time": "2022-08-12T14:44:09.095Z"
   },
   {
    "duration": 124,
    "start_time": "2022-08-12T14:44:10.033Z"
   },
   {
    "duration": 7,
    "start_time": "2022-08-12T14:44:10.184Z"
   },
   {
    "duration": 3,
    "start_time": "2022-08-12T14:44:10.349Z"
   },
   {
    "duration": 3,
    "start_time": "2022-08-12T14:44:10.850Z"
   },
   {
    "duration": 13,
    "start_time": "2022-08-12T14:44:11.016Z"
   },
   {
    "duration": 3,
    "start_time": "2022-08-12T14:44:11.182Z"
   },
   {
    "duration": 23,
    "start_time": "2022-08-12T14:44:11.432Z"
   },
   {
    "duration": 17,
    "start_time": "2022-08-12T14:44:11.685Z"
   },
   {
    "duration": 24,
    "start_time": "2022-08-12T14:44:11.849Z"
   },
   {
    "duration": 61,
    "start_time": "2022-08-12T14:44:12.099Z"
   },
   {
    "duration": 126,
    "start_time": "2022-08-12T14:44:12.266Z"
   },
   {
    "duration": 56,
    "start_time": "2022-08-12T14:44:12.433Z"
   },
   {
    "duration": 7,
    "start_time": "2022-08-12T14:44:12.683Z"
   },
   {
    "duration": 10,
    "start_time": "2022-08-12T14:44:12.854Z"
   },
   {
    "duration": 7,
    "start_time": "2022-08-12T14:44:13.018Z"
   },
   {
    "duration": 7,
    "start_time": "2022-08-12T14:44:13.183Z"
   },
   {
    "duration": 32,
    "start_time": "2022-08-12T14:44:14.352Z"
   },
   {
    "duration": 32,
    "start_time": "2022-08-12T14:44:15.083Z"
   },
   {
    "duration": 4,
    "start_time": "2022-08-12T14:44:15.675Z"
   },
   {
    "duration": 16,
    "start_time": "2022-08-12T14:44:16.083Z"
   },
   {
    "duration": 16,
    "start_time": "2022-08-12T14:44:16.266Z"
   },
   {
    "duration": 17,
    "start_time": "2022-08-12T14:44:16.435Z"
   },
   {
    "duration": 15,
    "start_time": "2022-08-12T14:44:16.583Z"
   },
   {
    "duration": 15,
    "start_time": "2022-08-12T14:44:18.172Z"
   },
   {
    "duration": 14,
    "start_time": "2022-08-12T14:44:18.698Z"
   },
   {
    "duration": 7,
    "start_time": "2022-08-12T14:44:19.524Z"
   },
   {
    "duration": 12,
    "start_time": "2022-08-12T14:44:21.734Z"
   },
   {
    "duration": 9,
    "start_time": "2022-08-12T14:44:22.362Z"
   },
   {
    "duration": 4,
    "start_time": "2022-08-12T14:44:24.247Z"
   },
   {
    "duration": 48,
    "start_time": "2022-08-12T14:44:26.428Z"
   },
   {
    "duration": 3,
    "start_time": "2022-08-12T14:44:39.161Z"
   },
   {
    "duration": 19,
    "start_time": "2022-08-12T14:44:43.030Z"
   },
   {
    "duration": 3,
    "start_time": "2022-08-12T14:44:49.455Z"
   },
   {
    "duration": 20,
    "start_time": "2022-08-12T14:44:51.377Z"
   },
   {
    "duration": 3,
    "start_time": "2022-08-12T14:45:34.873Z"
   },
   {
    "duration": 21,
    "start_time": "2022-08-12T14:45:36.893Z"
   },
   {
    "duration": 4,
    "start_time": "2022-08-12T14:45:48.389Z"
   },
   {
    "duration": 22,
    "start_time": "2022-08-12T14:45:50.291Z"
   },
   {
    "duration": 4,
    "start_time": "2022-08-12T14:47:53.152Z"
   },
   {
    "duration": 20,
    "start_time": "2022-08-12T14:47:54.417Z"
   },
   {
    "duration": 9,
    "start_time": "2022-08-12T14:49:33.944Z"
   },
   {
    "duration": 9,
    "start_time": "2022-08-12T14:49:46.080Z"
   },
   {
    "duration": 19,
    "start_time": "2022-08-12T14:50:20.291Z"
   },
   {
    "duration": 21,
    "start_time": "2022-08-12T14:57:34.223Z"
   },
   {
    "duration": 21,
    "start_time": "2022-08-12T14:57:56.715Z"
   },
   {
    "duration": 558,
    "start_time": "2022-08-12T14:58:43.169Z"
   },
   {
    "duration": 126,
    "start_time": "2022-08-12T14:58:43.729Z"
   },
   {
    "duration": 7,
    "start_time": "2022-08-12T14:58:44.142Z"
   },
   {
    "duration": 3,
    "start_time": "2022-08-12T14:58:44.312Z"
   },
   {
    "duration": 3,
    "start_time": "2022-08-12T14:58:45.908Z"
   },
   {
    "duration": 13,
    "start_time": "2022-08-12T14:58:47.015Z"
   },
   {
    "duration": 4,
    "start_time": "2022-08-12T14:58:47.177Z"
   },
   {
    "duration": 23,
    "start_time": "2022-08-12T14:58:47.435Z"
   },
   {
    "duration": 16,
    "start_time": "2022-08-12T14:58:47.675Z"
   },
   {
    "duration": 23,
    "start_time": "2022-08-12T14:58:47.843Z"
   },
   {
    "duration": 57,
    "start_time": "2022-08-12T14:58:48.099Z"
   },
   {
    "duration": 123,
    "start_time": "2022-08-12T14:58:48.262Z"
   },
   {
    "duration": 54,
    "start_time": "2022-08-12T14:58:48.430Z"
   },
   {
    "duration": 6,
    "start_time": "2022-08-12T14:58:49.295Z"
   },
   {
    "duration": 10,
    "start_time": "2022-08-12T14:58:49.466Z"
   },
   {
    "duration": 6,
    "start_time": "2022-08-12T14:58:49.630Z"
   },
   {
    "duration": 7,
    "start_time": "2022-08-12T14:58:49.797Z"
   },
   {
    "duration": 30,
    "start_time": "2022-08-12T14:58:52.787Z"
   },
   {
    "duration": 34,
    "start_time": "2022-08-12T14:58:53.682Z"
   },
   {
    "duration": 3,
    "start_time": "2022-08-12T14:58:54.890Z"
   },
   {
    "duration": 15,
    "start_time": "2022-08-12T14:58:55.874Z"
   },
   {
    "duration": 18,
    "start_time": "2022-08-12T14:58:56.211Z"
   },
   {
    "duration": 17,
    "start_time": "2022-08-12T14:58:56.466Z"
   },
   {
    "duration": 13,
    "start_time": "2022-08-12T14:58:56.722Z"
   },
   {
    "duration": 16,
    "start_time": "2022-08-12T14:58:57.053Z"
   },
   {
    "duration": 14,
    "start_time": "2022-08-12T14:58:57.327Z"
   },
   {
    "duration": 6,
    "start_time": "2022-08-12T14:58:57.698Z"
   },
   {
    "duration": 11,
    "start_time": "2022-08-12T14:59:00.128Z"
   },
   {
    "duration": 10,
    "start_time": "2022-08-12T14:59:00.618Z"
   },
   {
    "duration": 73,
    "start_time": "2022-08-12T14:59:21.300Z"
   },
   {
    "duration": 19,
    "start_time": "2022-08-12T15:01:31.965Z"
   },
   {
    "duration": 20,
    "start_time": "2022-08-12T15:01:48.579Z"
   },
   {
    "duration": 28,
    "start_time": "2022-08-12T15:01:51.781Z"
   },
   {
    "duration": 19,
    "start_time": "2022-08-12T15:03:38.159Z"
   },
   {
    "duration": 28,
    "start_time": "2022-08-12T15:03:45.079Z"
   },
   {
    "duration": 21,
    "start_time": "2022-08-12T15:04:08.314Z"
   },
   {
    "duration": 25,
    "start_time": "2022-08-12T15:04:11.149Z"
   },
   {
    "duration": 20,
    "start_time": "2022-08-12T15:04:44.718Z"
   },
   {
    "duration": 28,
    "start_time": "2022-08-12T15:04:47.801Z"
   },
   {
    "duration": 22,
    "start_time": "2022-08-12T15:06:27.898Z"
   },
   {
    "duration": 26,
    "start_time": "2022-08-12T15:06:31.147Z"
   },
   {
    "duration": 24,
    "start_time": "2022-08-12T15:06:47.500Z"
   },
   {
    "duration": 24,
    "start_time": "2022-08-12T15:06:50.379Z"
   },
   {
    "duration": 30,
    "start_time": "2022-08-12T15:07:09.264Z"
   },
   {
    "duration": 20,
    "start_time": "2022-08-12T15:07:25.143Z"
   },
   {
    "duration": 31,
    "start_time": "2022-08-12T15:07:36.574Z"
   },
   {
    "duration": 23,
    "start_time": "2022-08-12T15:07:46.715Z"
   },
   {
    "duration": 21,
    "start_time": "2022-08-12T15:07:57.235Z"
   },
   {
    "duration": 23,
    "start_time": "2022-08-12T15:08:07.026Z"
   },
   {
    "duration": 22,
    "start_time": "2022-08-12T15:08:14.677Z"
   },
   {
    "duration": 28,
    "start_time": "2022-08-12T15:08:35.948Z"
   },
   {
    "duration": 22,
    "start_time": "2022-08-12T15:08:54.065Z"
   },
   {
    "duration": 24,
    "start_time": "2022-08-12T15:11:01.217Z"
   },
   {
    "duration": 22,
    "start_time": "2022-08-12T15:11:08.344Z"
   },
   {
    "duration": 23,
    "start_time": "2022-08-12T15:11:18.659Z"
   },
   {
    "duration": 20,
    "start_time": "2022-08-12T15:11:35.550Z"
   },
   {
    "duration": 24,
    "start_time": "2022-08-12T15:11:43.816Z"
   },
   {
    "duration": 23,
    "start_time": "2022-08-12T15:11:46.516Z"
   },
   {
    "duration": 25,
    "start_time": "2022-08-12T15:12:21.257Z"
   },
   {
    "duration": 21,
    "start_time": "2022-08-12T15:12:40.837Z"
   },
   {
    "duration": 22,
    "start_time": "2022-08-12T15:15:02.681Z"
   },
   {
    "duration": 26,
    "start_time": "2022-08-12T15:15:29.889Z"
   },
   {
    "duration": 26,
    "start_time": "2022-08-12T15:15:50.199Z"
   },
   {
    "duration": 21,
    "start_time": "2022-08-12T15:16:44.168Z"
   },
   {
    "duration": 3,
    "start_time": "2022-08-12T15:16:55.458Z"
   },
   {
    "duration": 20,
    "start_time": "2022-08-12T15:16:57.675Z"
   },
   {
    "duration": 13,
    "start_time": "2022-08-12T15:17:22.133Z"
   },
   {
    "duration": 20,
    "start_time": "2022-08-12T15:17:43.733Z"
   },
   {
    "duration": 14,
    "start_time": "2022-08-12T15:17:52.326Z"
   },
   {
    "duration": 9,
    "start_time": "2022-08-12T15:19:26.028Z"
   },
   {
    "duration": 6,
    "start_time": "2022-08-12T15:19:43.728Z"
   },
   {
    "duration": 8,
    "start_time": "2022-08-12T15:19:49.261Z"
   },
   {
    "duration": 4,
    "start_time": "2022-08-12T15:20:13.825Z"
   },
   {
    "duration": 10,
    "start_time": "2022-08-12T15:20:30.755Z"
   },
   {
    "duration": 5,
    "start_time": "2022-08-12T15:20:34.329Z"
   },
   {
    "duration": 13,
    "start_time": "2022-08-12T15:21:22.304Z"
   },
   {
    "duration": 10,
    "start_time": "2022-08-12T15:21:36.473Z"
   },
   {
    "duration": 6,
    "start_time": "2022-08-12T15:21:40.302Z"
   },
   {
    "duration": 9,
    "start_time": "2022-08-12T15:21:55.915Z"
   },
   {
    "duration": 4,
    "start_time": "2022-08-12T15:21:58.237Z"
   },
   {
    "duration": 6,
    "start_time": "2022-08-12T15:22:25.188Z"
   },
   {
    "duration": 5,
    "start_time": "2022-08-12T15:22:37.269Z"
   },
   {
    "duration": 93,
    "start_time": "2022-08-13T14:50:11.019Z"
   },
   {
    "duration": 584,
    "start_time": "2022-08-13T14:53:32.777Z"
   },
   {
    "duration": 99,
    "start_time": "2022-08-13T14:53:33.362Z"
   },
   {
    "duration": 6,
    "start_time": "2022-08-13T14:53:33.462Z"
   },
   {
    "duration": 6,
    "start_time": "2022-08-13T14:53:33.470Z"
   },
   {
    "duration": 6,
    "start_time": "2022-08-13T14:53:33.477Z"
   },
   {
    "duration": 22,
    "start_time": "2022-08-13T14:53:33.484Z"
   },
   {
    "duration": 4,
    "start_time": "2022-08-13T14:53:33.507Z"
   },
   {
    "duration": 18,
    "start_time": "2022-08-13T14:53:33.512Z"
   },
   {
    "duration": 13,
    "start_time": "2022-08-13T14:53:33.532Z"
   },
   {
    "duration": 16,
    "start_time": "2022-08-13T14:53:33.548Z"
   },
   {
    "duration": 74,
    "start_time": "2022-08-13T14:53:33.565Z"
   },
   {
    "duration": 110,
    "start_time": "2022-08-13T14:53:33.640Z"
   },
   {
    "duration": 54,
    "start_time": "2022-08-13T14:53:33.751Z"
   },
   {
    "duration": 6,
    "start_time": "2022-08-13T14:53:33.806Z"
   },
   {
    "duration": 8,
    "start_time": "2022-08-13T14:53:33.814Z"
   },
   {
    "duration": 8,
    "start_time": "2022-08-13T14:53:33.823Z"
   },
   {
    "duration": 9,
    "start_time": "2022-08-13T14:53:33.832Z"
   },
   {
    "duration": 22,
    "start_time": "2022-08-13T14:53:33.842Z"
   },
   {
    "duration": 49,
    "start_time": "2022-08-13T14:53:33.866Z"
   },
   {
    "duration": 3,
    "start_time": "2022-08-13T14:53:33.916Z"
   },
   {
    "duration": 15,
    "start_time": "2022-08-13T14:53:33.921Z"
   },
   {
    "duration": 13,
    "start_time": "2022-08-13T14:53:33.937Z"
   },
   {
    "duration": 13,
    "start_time": "2022-08-13T14:53:33.952Z"
   },
   {
    "duration": 41,
    "start_time": "2022-08-13T14:53:33.966Z"
   },
   {
    "duration": 12,
    "start_time": "2022-08-13T14:53:34.009Z"
   },
   {
    "duration": 11,
    "start_time": "2022-08-13T14:53:34.022Z"
   },
   {
    "duration": 6,
    "start_time": "2022-08-13T14:53:34.034Z"
   },
   {
    "duration": 12,
    "start_time": "2022-08-13T14:53:34.043Z"
   },
   {
    "duration": 8,
    "start_time": "2022-08-13T14:53:34.056Z"
   },
   {
    "duration": 4,
    "start_time": "2022-08-13T14:53:34.066Z"
   },
   {
    "duration": 46,
    "start_time": "2022-08-13T14:53:34.071Z"
   },
   {
    "duration": 10,
    "start_time": "2022-08-13T14:53:34.119Z"
   },
   {
    "duration": 16,
    "start_time": "2022-08-13T14:53:34.130Z"
   },
   {
    "duration": 9,
    "start_time": "2022-08-13T14:53:34.147Z"
   },
   {
    "duration": 7,
    "start_time": "2022-08-13T14:53:34.157Z"
   },
   {
    "duration": 4,
    "start_time": "2022-08-13T14:53:34.165Z"
   },
   {
    "duration": 30,
    "start_time": "2022-08-13T14:53:34.170Z"
   },
   {
    "duration": 3,
    "start_time": "2022-08-13T14:53:34.202Z"
   },
   {
    "duration": 9,
    "start_time": "2022-08-13T14:53:46.397Z"
   },
   {
    "duration": 12,
    "start_time": "2022-08-13T15:00:23.511Z"
   },
   {
    "duration": 41,
    "start_time": "2022-08-13T15:37:02.142Z"
   },
   {
    "duration": 807,
    "start_time": "2022-08-13T15:37:25.509Z"
   },
   {
    "duration": 131,
    "start_time": "2022-08-13T15:37:28.764Z"
   },
   {
    "duration": 10,
    "start_time": "2022-08-13T15:37:39.075Z"
   },
   {
    "duration": 24,
    "start_time": "2022-08-13T15:37:45.428Z"
   },
   {
    "duration": 6,
    "start_time": "2022-08-13T15:37:53.984Z"
   },
   {
    "duration": 23,
    "start_time": "2022-08-13T15:38:48.711Z"
   },
   {
    "duration": 142,
    "start_time": "2022-08-13T15:55:39.872Z"
   },
   {
    "duration": 2,
    "start_time": "2022-08-13T16:03:19.728Z"
   },
   {
    "duration": 148,
    "start_time": "2022-08-13T16:03:22.260Z"
   },
   {
    "duration": 106,
    "start_time": "2022-08-13T16:03:29.891Z"
   },
   {
    "duration": 100,
    "start_time": "2022-08-13T16:03:37.898Z"
   },
   {
    "duration": 10,
    "start_time": "2022-08-13T16:05:19.325Z"
   },
   {
    "duration": 26,
    "start_time": "2022-08-13T16:07:27.493Z"
   },
   {
    "duration": 7,
    "start_time": "2022-08-13T16:11:51.493Z"
   },
   {
    "duration": 161,
    "start_time": "2022-08-13T16:12:20.190Z"
   },
   {
    "duration": 145,
    "start_time": "2022-08-13T16:12:24.072Z"
   },
   {
    "duration": 462,
    "start_time": "2022-08-13T16:12:42.106Z"
   },
   {
    "duration": 120,
    "start_time": "2022-08-13T16:12:44.977Z"
   },
   {
    "duration": 9,
    "start_time": "2022-08-13T16:12:47.572Z"
   },
   {
    "duration": 25,
    "start_time": "2022-08-13T16:12:54.622Z"
   },
   {
    "duration": 55,
    "start_time": "2022-08-13T16:13:08.106Z"
   },
   {
    "duration": 9,
    "start_time": "2022-08-13T16:13:22.095Z"
   },
   {
    "duration": 4,
    "start_time": "2022-08-13T16:13:36.437Z"
   },
   {
    "duration": 4,
    "start_time": "2022-08-13T16:17:41.324Z"
   },
   {
    "duration": 36,
    "start_time": "2022-08-13T16:20:51.216Z"
   },
   {
    "duration": 835,
    "start_time": "2022-08-13T17:48:49.535Z"
   },
   {
    "duration": 109,
    "start_time": "2022-08-13T17:48:52.589Z"
   },
   {
    "duration": 9,
    "start_time": "2022-08-13T17:48:55.220Z"
   },
   {
    "duration": 28,
    "start_time": "2022-08-13T17:48:58.022Z"
   },
   {
    "duration": 4,
    "start_time": "2022-08-13T17:49:03.041Z"
   },
   {
    "duration": 11,
    "start_time": "2022-08-13T17:49:06.690Z"
   },
   {
    "duration": 4,
    "start_time": "2022-08-13T17:49:09.616Z"
   },
   {
    "duration": 24,
    "start_time": "2022-08-13T17:49:15.780Z"
   },
   {
    "duration": 28,
    "start_time": "2022-08-13T17:55:19.956Z"
   },
   {
    "duration": 35,
    "start_time": "2022-08-13T17:55:29.093Z"
   },
   {
    "duration": 531,
    "start_time": "2022-08-13T17:55:56.369Z"
   },
   {
    "duration": 150,
    "start_time": "2022-08-13T17:55:57.316Z"
   },
   {
    "duration": 10,
    "start_time": "2022-08-13T17:55:57.563Z"
   },
   {
    "duration": 29,
    "start_time": "2022-08-13T17:55:57.818Z"
   },
   {
    "duration": 4,
    "start_time": "2022-08-13T17:56:00.135Z"
   },
   {
    "duration": 11,
    "start_time": "2022-08-13T17:56:01.346Z"
   },
   {
    "duration": 4,
    "start_time": "2022-08-13T17:56:02.492Z"
   },
   {
    "duration": 21,
    "start_time": "2022-08-13T17:56:24.368Z"
   },
   {
    "duration": 60,
    "start_time": "2022-08-13T18:02:59.796Z"
   },
   {
    "duration": 106,
    "start_time": "2022-08-13T18:03:10.666Z"
   },
   {
    "duration": 8,
    "start_time": "2022-08-13T18:03:15.289Z"
   },
   {
    "duration": 7,
    "start_time": "2022-08-13T18:03:55.870Z"
   },
   {
    "duration": 9,
    "start_time": "2022-08-13T18:04:00.392Z"
   },
   {
    "duration": 8,
    "start_time": "2022-08-13T18:06:00.294Z"
   },
   {
    "duration": 25,
    "start_time": "2022-08-13T18:06:15.673Z"
   },
   {
    "duration": 24,
    "start_time": "2022-08-13T18:06:18.511Z"
   },
   {
    "duration": 21,
    "start_time": "2022-08-13T18:06:43.133Z"
   },
   {
    "duration": 23,
    "start_time": "2022-08-13T18:06:50.454Z"
   },
   {
    "duration": 29,
    "start_time": "2022-08-13T18:07:42.053Z"
   },
   {
    "duration": 23,
    "start_time": "2022-08-13T18:07:55.553Z"
   },
   {
    "duration": 1676,
    "start_time": "2022-08-13T18:09:35.454Z"
   },
   {
    "duration": 5,
    "start_time": "2022-08-13T18:09:59.838Z"
   },
   {
    "duration": 1595,
    "start_time": "2022-08-13T18:10:08.271Z"
   },
   {
    "duration": 9,
    "start_time": "2022-08-13T18:10:18.891Z"
   },
   {
    "duration": 10,
    "start_time": "2022-08-13T18:10:30.624Z"
   },
   {
    "duration": 20,
    "start_time": "2022-08-13T18:12:25.759Z"
   },
   {
    "duration": 24,
    "start_time": "2022-08-13T18:19:06.676Z"
   },
   {
    "duration": 6,
    "start_time": "2022-08-13T18:21:30.750Z"
   },
   {
    "duration": 117,
    "start_time": "2022-08-13T18:21:50.835Z"
   },
   {
    "duration": 6,
    "start_time": "2022-08-13T18:21:53.696Z"
   },
   {
    "duration": 298,
    "start_time": "2022-08-13T18:22:02.448Z"
   },
   {
    "duration": 21,
    "start_time": "2022-08-13T18:22:15.317Z"
   },
   {
    "duration": 22,
    "start_time": "2022-08-13T18:22:32.916Z"
   },
   {
    "duration": 21,
    "start_time": "2022-08-13T18:22:37.984Z"
   },
   {
    "duration": 100,
    "start_time": "2022-08-13T18:25:31.523Z"
   },
   {
    "duration": 125,
    "start_time": "2022-08-13T18:25:51.148Z"
   },
   {
    "duration": 97,
    "start_time": "2022-08-13T18:25:58.452Z"
   },
   {
    "duration": 115,
    "start_time": "2022-08-13T18:26:02.564Z"
   },
   {
    "duration": 176,
    "start_time": "2022-08-13T18:26:33.410Z"
   },
   {
    "duration": 32,
    "start_time": "2022-08-13T18:26:46.792Z"
   },
   {
    "duration": 522,
    "start_time": "2022-08-13T18:27:13.058Z"
   },
   {
    "duration": 115,
    "start_time": "2022-08-13T18:27:13.582Z"
   },
   {
    "duration": 9,
    "start_time": "2022-08-13T18:27:13.699Z"
   },
   {
    "duration": 25,
    "start_time": "2022-08-13T18:27:13.895Z"
   },
   {
    "duration": 3,
    "start_time": "2022-08-13T18:27:16.305Z"
   },
   {
    "duration": 11,
    "start_time": "2022-08-13T18:27:17.429Z"
   },
   {
    "duration": 4,
    "start_time": "2022-08-13T18:27:18.690Z"
   },
   {
    "duration": 24,
    "start_time": "2022-08-13T18:27:23.813Z"
   },
   {
    "duration": 23,
    "start_time": "2022-08-13T18:27:31.318Z"
   },
   {
    "duration": 12,
    "start_time": "2022-08-13T18:27:34.100Z"
   },
   {
    "duration": 23,
    "start_time": "2022-08-13T18:27:41.170Z"
   },
   {
    "duration": 134,
    "start_time": "2022-08-13T18:27:47.773Z"
   },
   {
    "duration": 105,
    "start_time": "2022-08-13T18:27:52.630Z"
   },
   {
    "duration": 103,
    "start_time": "2022-08-13T18:31:27.525Z"
   },
   {
    "duration": 20,
    "start_time": "2022-08-13T18:35:11.539Z"
   },
   {
    "duration": 105,
    "start_time": "2022-08-13T18:38:54.799Z"
   },
   {
    "duration": 403,
    "start_time": "2022-08-13T18:40:13.935Z"
   },
   {
    "duration": 243,
    "start_time": "2022-08-13T18:40:59.045Z"
   },
   {
    "duration": 110,
    "start_time": "2022-08-13T18:41:23.613Z"
   },
   {
    "duration": 110,
    "start_time": "2022-08-13T18:41:30.065Z"
   },
   {
    "duration": 96,
    "start_time": "2022-08-13T18:41:45.311Z"
   },
   {
    "duration": 105,
    "start_time": "2022-08-13T18:41:48.471Z"
   },
   {
    "duration": 160,
    "start_time": "2022-08-13T18:43:09.763Z"
   },
   {
    "duration": 61,
    "start_time": "2022-08-13T18:43:31.303Z"
   },
   {
    "duration": 11,
    "start_time": "2022-08-13T18:43:44.241Z"
   },
   {
    "duration": 10,
    "start_time": "2022-08-13T18:43:48.803Z"
   },
   {
    "duration": 15,
    "start_time": "2022-08-13T18:44:07.735Z"
   },
   {
    "duration": 11,
    "start_time": "2022-08-13T18:44:33.795Z"
   },
   {
    "duration": 12,
    "start_time": "2022-08-13T18:45:24.242Z"
   },
   {
    "duration": 20,
    "start_time": "2022-08-13T18:46:45.007Z"
   },
   {
    "duration": 122,
    "start_time": "2022-08-13T18:47:29.284Z"
   },
   {
    "duration": 147,
    "start_time": "2022-08-13T18:47:38.829Z"
   },
   {
    "duration": 278,
    "start_time": "2022-08-13T18:51:06.235Z"
   },
   {
    "duration": 19,
    "start_time": "2022-08-13T18:51:09.027Z"
   },
   {
    "duration": 519,
    "start_time": "2022-08-13T18:51:45.522Z"
   },
   {
    "duration": 142,
    "start_time": "2022-08-13T18:51:46.681Z"
   },
   {
    "duration": 10,
    "start_time": "2022-08-13T18:51:48.054Z"
   },
   {
    "duration": 23,
    "start_time": "2022-08-13T18:51:48.624Z"
   },
   {
    "duration": 4,
    "start_time": "2022-08-13T18:51:52.331Z"
   },
   {
    "duration": 10,
    "start_time": "2022-08-13T18:51:54.140Z"
   },
   {
    "duration": 4,
    "start_time": "2022-08-13T18:51:57.419Z"
   },
   {
    "duration": 21,
    "start_time": "2022-08-13T18:52:03.362Z"
   },
   {
    "duration": 291,
    "start_time": "2022-08-13T18:52:06.845Z"
   },
   {
    "duration": 20,
    "start_time": "2022-08-13T18:52:23.136Z"
   },
   {
    "duration": 4,
    "start_time": "2022-08-13T18:52:33.552Z"
   },
   {
    "duration": 21,
    "start_time": "2022-08-13T18:52:36.059Z"
   },
   {
    "duration": 63,
    "start_time": "2022-08-13T18:58:08.894Z"
   },
   {
    "duration": 12,
    "start_time": "2022-08-13T18:58:17.371Z"
   },
   {
    "duration": 37,
    "start_time": "2022-08-13T18:58:25.428Z"
   },
   {
    "duration": 73,
    "start_time": "2022-08-13T18:58:37.103Z"
   },
   {
    "duration": 12,
    "start_time": "2022-08-13T18:58:38.862Z"
   },
   {
    "duration": 10,
    "start_time": "2022-08-13T18:58:48.160Z"
   },
   {
    "duration": 536,
    "start_time": "2022-08-13T18:59:27.084Z"
   },
   {
    "duration": 117,
    "start_time": "2022-08-13T18:59:27.623Z"
   },
   {
    "duration": 17,
    "start_time": "2022-08-13T18:59:27.743Z"
   },
   {
    "duration": 24,
    "start_time": "2022-08-13T18:59:27.916Z"
   },
   {
    "duration": 4,
    "start_time": "2022-08-13T18:59:28.584Z"
   },
   {
    "duration": 10,
    "start_time": "2022-08-13T18:59:28.840Z"
   },
   {
    "duration": 4,
    "start_time": "2022-08-13T18:59:29.790Z"
   },
   {
    "duration": 23,
    "start_time": "2022-08-13T18:59:30.124Z"
   },
   {
    "duration": 294,
    "start_time": "2022-08-13T18:59:30.982Z"
   },
   {
    "duration": 21,
    "start_time": "2022-08-13T18:59:34.741Z"
   },
   {
    "duration": 56,
    "start_time": "2022-08-13T18:59:38.128Z"
   },
   {
    "duration": 27,
    "start_time": "2022-08-13T18:59:44.535Z"
   },
   {
    "duration": 58,
    "start_time": "2022-08-13T19:00:01.846Z"
   },
   {
    "duration": 548,
    "start_time": "2022-08-13T19:00:29.369Z"
   },
   {
    "duration": 123,
    "start_time": "2022-08-13T19:00:30.165Z"
   },
   {
    "duration": 10,
    "start_time": "2022-08-13T19:00:32.643Z"
   },
   {
    "duration": 32,
    "start_time": "2022-08-13T19:00:36.659Z"
   },
   {
    "duration": 4,
    "start_time": "2022-08-13T19:00:39.631Z"
   },
   {
    "duration": 13,
    "start_time": "2022-08-13T19:00:41.043Z"
   },
   {
    "duration": 5,
    "start_time": "2022-08-13T19:00:42.073Z"
   },
   {
    "duration": 22,
    "start_time": "2022-08-13T19:00:47.169Z"
   },
   {
    "duration": 25,
    "start_time": "2022-08-13T19:01:00.259Z"
   },
   {
    "duration": 21,
    "start_time": "2022-08-13T19:01:04.243Z"
   },
   {
    "duration": 304,
    "start_time": "2022-08-13T19:01:06.795Z"
   },
   {
    "duration": 38,
    "start_time": "2022-08-13T19:01:11.805Z"
   },
   {
    "duration": 150,
    "start_time": "2022-08-13T19:01:28.246Z"
   },
   {
    "duration": 108,
    "start_time": "2022-08-13T19:01:29.271Z"
   },
   {
    "duration": 11,
    "start_time": "2022-08-13T19:01:30.785Z"
   },
   {
    "duration": 538,
    "start_time": "2022-08-13T19:01:42.616Z"
   },
   {
    "duration": 114,
    "start_time": "2022-08-13T19:01:43.343Z"
   },
   {
    "duration": 10,
    "start_time": "2022-08-13T19:01:44.385Z"
   },
   {
    "duration": 38,
    "start_time": "2022-08-13T19:01:45.209Z"
   },
   {
    "duration": 5,
    "start_time": "2022-08-13T19:01:47.306Z"
   },
   {
    "duration": 11,
    "start_time": "2022-08-13T19:01:48.126Z"
   },
   {
    "duration": 4,
    "start_time": "2022-08-13T19:01:49.162Z"
   },
   {
    "duration": 22,
    "start_time": "2022-08-13T19:01:50.628Z"
   },
   {
    "duration": 103,
    "start_time": "2022-08-13T19:03:31.662Z"
   },
   {
    "duration": 101,
    "start_time": "2022-08-13T19:03:40.014Z"
   },
   {
    "duration": 101,
    "start_time": "2022-08-13T19:03:47.120Z"
   },
   {
    "duration": 106,
    "start_time": "2022-08-13T19:03:50.824Z"
   },
   {
    "duration": 57,
    "start_time": "2022-08-13T19:04:24.739Z"
   },
   {
    "duration": 9,
    "start_time": "2022-08-13T19:04:36.686Z"
   },
   {
    "duration": 12,
    "start_time": "2022-08-13T19:05:09.833Z"
   },
   {
    "duration": 100,
    "start_time": "2022-08-13T19:07:26.575Z"
   },
   {
    "duration": 110,
    "start_time": "2022-08-13T19:07:31.588Z"
   },
   {
    "duration": 172,
    "start_time": "2022-08-13T19:07:36.695Z"
   },
   {
    "duration": 7,
    "start_time": "2022-08-13T19:08:53.399Z"
   },
   {
    "duration": 590,
    "start_time": "2022-08-13T19:09:45.532Z"
   },
   {
    "duration": 132,
    "start_time": "2022-08-13T19:09:47.484Z"
   },
   {
    "duration": 13,
    "start_time": "2022-08-13T19:09:48.524Z"
   },
   {
    "duration": 39,
    "start_time": "2022-08-13T19:09:49.021Z"
   },
   {
    "duration": 4,
    "start_time": "2022-08-13T19:09:50.344Z"
   },
   {
    "duration": 10,
    "start_time": "2022-08-13T19:09:50.840Z"
   },
   {
    "duration": 4,
    "start_time": "2022-08-13T19:09:51.289Z"
   },
   {
    "duration": 20,
    "start_time": "2022-08-13T19:09:51.919Z"
   },
   {
    "duration": 537,
    "start_time": "2022-08-13T19:10:09.168Z"
   },
   {
    "duration": 125,
    "start_time": "2022-08-13T19:10:09.707Z"
   },
   {
    "duration": 10,
    "start_time": "2022-08-13T19:10:09.834Z"
   },
   {
    "duration": 33,
    "start_time": "2022-08-13T19:10:10.003Z"
   },
   {
    "duration": 4,
    "start_time": "2022-08-13T19:10:12.160Z"
   },
   {
    "duration": 11,
    "start_time": "2022-08-13T19:10:13.077Z"
   },
   {
    "duration": 4,
    "start_time": "2022-08-13T19:10:13.566Z"
   },
   {
    "duration": 22,
    "start_time": "2022-08-13T19:10:15.889Z"
   },
   {
    "duration": 518,
    "start_time": "2022-08-13T19:11:03.277Z"
   },
   {
    "duration": 120,
    "start_time": "2022-08-13T19:11:03.797Z"
   },
   {
    "duration": 11,
    "start_time": "2022-08-13T19:11:03.918Z"
   },
   {
    "duration": 26,
    "start_time": "2022-08-13T19:11:05.247Z"
   },
   {
    "duration": 5,
    "start_time": "2022-08-13T19:11:07.062Z"
   },
   {
    "duration": 10,
    "start_time": "2022-08-13T19:11:08.124Z"
   },
   {
    "duration": 4,
    "start_time": "2022-08-13T19:11:09.764Z"
   },
   {
    "duration": 20,
    "start_time": "2022-08-13T19:11:12.415Z"
   },
   {
    "duration": 56,
    "start_time": "2022-08-13T19:11:25.951Z"
   },
   {
    "duration": 7,
    "start_time": "2022-08-13T19:15:14.932Z"
   },
   {
    "duration": 164,
    "start_time": "2022-08-13T19:15:19.276Z"
   },
   {
    "duration": 5,
    "start_time": "2022-08-13T19:15:22.948Z"
   },
   {
    "duration": 1029,
    "start_time": "2022-08-13T19:15:37.284Z"
   },
   {
    "duration": 1862,
    "start_time": "2022-08-13T19:16:01.504Z"
   },
   {
    "duration": 17,
    "start_time": "2022-08-13T19:16:27.845Z"
   },
   {
    "duration": 106,
    "start_time": "2022-08-13T19:17:22.754Z"
   },
   {
    "duration": 123,
    "start_time": "2022-08-13T19:17:26.783Z"
   },
   {
    "duration": 95,
    "start_time": "2022-08-13T19:17:33.250Z"
   },
   {
    "duration": 109,
    "start_time": "2022-08-13T19:17:39.334Z"
   },
   {
    "duration": 9,
    "start_time": "2022-08-13T19:17:47.352Z"
   },
   {
    "duration": 906,
    "start_time": "2022-08-13T19:17:53.435Z"
   },
   {
    "duration": 234,
    "start_time": "2022-08-13T19:22:24.634Z"
   },
   {
    "duration": 103,
    "start_time": "2022-08-13T19:22:28.250Z"
   },
   {
    "duration": 163,
    "start_time": "2022-08-13T19:22:34.729Z"
   },
   {
    "duration": 178,
    "start_time": "2022-08-13T19:23:23.675Z"
   },
   {
    "duration": 103,
    "start_time": "2022-08-13T19:23:27.077Z"
   },
   {
    "duration": 147,
    "start_time": "2022-08-13T19:23:29.556Z"
   },
   {
    "duration": 114,
    "start_time": "2022-08-13T19:23:36.152Z"
   },
   {
    "duration": 108,
    "start_time": "2022-08-13T19:23:39.323Z"
   },
   {
    "duration": 104,
    "start_time": "2022-08-13T19:23:45.836Z"
   },
   {
    "duration": 104,
    "start_time": "2022-08-13T19:23:49.500Z"
   },
   {
    "duration": 104,
    "start_time": "2022-08-13T19:23:51.825Z"
   },
   {
    "duration": 8,
    "start_time": "2022-08-13T19:24:32.801Z"
   },
   {
    "duration": 105,
    "start_time": "2022-08-13T19:26:44.079Z"
   },
   {
    "duration": 10,
    "start_time": "2022-08-13T19:26:51.421Z"
   },
   {
    "duration": 7,
    "start_time": "2022-08-13T19:27:33.397Z"
   },
   {
    "duration": 7,
    "start_time": "2022-08-13T19:27:59.570Z"
   },
   {
    "duration": 105,
    "start_time": "2022-08-13T19:28:31.371Z"
   },
   {
    "duration": 12,
    "start_time": "2022-08-13T19:28:37.528Z"
   },
   {
    "duration": 103,
    "start_time": "2022-08-13T19:28:50.326Z"
   },
   {
    "duration": 99,
    "start_time": "2022-08-13T19:29:23.628Z"
   },
   {
    "duration": 11,
    "start_time": "2022-08-13T19:29:37.367Z"
   },
   {
    "duration": 12,
    "start_time": "2022-08-13T19:29:51.230Z"
   },
   {
    "duration": 11,
    "start_time": "2022-08-13T19:30:10.261Z"
   },
   {
    "duration": 100,
    "start_time": "2022-08-13T19:30:25.069Z"
   },
   {
    "duration": 106,
    "start_time": "2022-08-13T19:30:29.008Z"
   },
   {
    "duration": 5,
    "start_time": "2022-08-13T19:30:33.902Z"
   },
   {
    "duration": 151,
    "start_time": "2022-08-13T19:31:26.664Z"
   },
   {
    "duration": 24,
    "start_time": "2022-08-13T19:31:28.984Z"
   },
   {
    "duration": 24,
    "start_time": "2022-08-13T19:31:33.977Z"
   },
   {
    "duration": 531,
    "start_time": "2022-08-13T19:31:57.345Z"
   },
   {
    "duration": 109,
    "start_time": "2022-08-13T19:31:58.141Z"
   },
   {
    "duration": 9,
    "start_time": "2022-08-13T19:31:58.612Z"
   },
   {
    "duration": 36,
    "start_time": "2022-08-13T19:31:59.062Z"
   },
   {
    "duration": 4,
    "start_time": "2022-08-13T19:32:02.196Z"
   },
   {
    "duration": 11,
    "start_time": "2022-08-13T19:32:03.250Z"
   },
   {
    "duration": 4,
    "start_time": "2022-08-13T19:32:04.611Z"
   },
   {
    "duration": 20,
    "start_time": "2022-08-13T19:32:07.989Z"
   },
   {
    "duration": 68,
    "start_time": "2022-08-13T19:33:20.491Z"
   },
   {
    "duration": 19,
    "start_time": "2022-08-13T19:33:31.915Z"
   },
   {
    "duration": 123,
    "start_time": "2022-08-13T19:33:49.711Z"
   },
   {
    "duration": 22,
    "start_time": "2022-08-13T19:33:55.042Z"
   },
   {
    "duration": 32,
    "start_time": "2022-08-13T19:33:58.864Z"
   },
   {
    "duration": 520,
    "start_time": "2022-08-14T04:40:24.753Z"
   },
   {
    "duration": 102,
    "start_time": "2022-08-14T04:40:26.516Z"
   },
   {
    "duration": 8,
    "start_time": "2022-08-14T04:40:27.539Z"
   },
   {
    "duration": 22,
    "start_time": "2022-08-14T04:40:28.546Z"
   },
   {
    "duration": 4,
    "start_time": "2022-08-14T04:40:31.151Z"
   },
   {
    "duration": 9,
    "start_time": "2022-08-14T04:40:32.192Z"
   },
   {
    "duration": 4,
    "start_time": "2022-08-14T04:40:33.070Z"
   },
   {
    "duration": 18,
    "start_time": "2022-08-14T04:40:34.685Z"
   },
   {
    "duration": 86,
    "start_time": "2022-08-14T04:40:38.657Z"
   },
   {
    "duration": 10,
    "start_time": "2022-08-14T04:56:41.892Z"
   },
   {
    "duration": 91,
    "start_time": "2022-08-14T05:06:05.156Z"
   },
   {
    "duration": 85,
    "start_time": "2022-08-14T05:06:09.837Z"
   },
   {
    "duration": 85,
    "start_time": "2022-08-14T05:06:16.136Z"
   },
   {
    "duration": 79,
    "start_time": "2022-08-14T05:06:33.884Z"
   },
   {
    "duration": 96,
    "start_time": "2022-08-14T05:06:38.007Z"
   },
   {
    "duration": 69,
    "start_time": "2022-08-14T05:06:40.809Z"
   },
   {
    "duration": 15,
    "start_time": "2022-08-14T05:08:51.721Z"
   },
   {
    "duration": 32,
    "start_time": "2022-08-14T05:08:54.259Z"
   },
   {
    "duration": 20,
    "start_time": "2022-08-14T05:09:10.736Z"
   },
   {
    "duration": 723,
    "start_time": "2022-08-14T05:09:36.911Z"
   },
   {
    "duration": 13,
    "start_time": "2022-08-14T05:09:50.033Z"
   },
   {
    "duration": 18,
    "start_time": "2022-08-14T05:09:52.126Z"
   },
   {
    "duration": 19,
    "start_time": "2022-08-14T05:10:01.729Z"
   },
   {
    "duration": 16,
    "start_time": "2022-08-14T05:10:11.886Z"
   },
   {
    "duration": 36,
    "start_time": "2022-08-14T05:10:32.107Z"
   },
   {
    "duration": 19,
    "start_time": "2022-08-14T05:10:33.926Z"
   },
   {
    "duration": 18,
    "start_time": "2022-08-14T05:11:03.159Z"
   },
   {
    "duration": 38,
    "start_time": "2022-08-14T05:13:08.250Z"
   },
   {
    "duration": 19,
    "start_time": "2022-08-14T05:13:10.880Z"
   },
   {
    "duration": 3,
    "start_time": "2022-08-14T05:13:38.638Z"
   },
   {
    "duration": 4,
    "start_time": "2022-08-14T05:13:51.328Z"
   },
   {
    "duration": 40,
    "start_time": "2022-08-14T05:14:47.941Z"
   },
   {
    "duration": 17,
    "start_time": "2022-08-14T05:14:50.803Z"
   },
   {
    "duration": 13,
    "start_time": "2022-08-14T05:18:32.397Z"
   },
   {
    "duration": 21,
    "start_time": "2022-08-14T05:18:53.051Z"
   },
   {
    "duration": 19,
    "start_time": "2022-08-14T05:18:56.291Z"
   },
   {
    "duration": 117,
    "start_time": "2022-08-14T05:20:32.063Z"
   },
   {
    "duration": 12,
    "start_time": "2022-08-14T05:20:39.533Z"
   },
   {
    "duration": 36,
    "start_time": "2022-08-14T05:21:27.625Z"
   },
   {
    "duration": 18,
    "start_time": "2022-08-14T05:21:29.785Z"
   },
   {
    "duration": 80,
    "start_time": "2022-08-14T05:22:16.229Z"
   },
   {
    "duration": 49,
    "start_time": "2022-08-14T05:22:21.268Z"
   },
   {
    "duration": 18,
    "start_time": "2022-08-14T05:22:23.179Z"
   },
   {
    "duration": 55,
    "start_time": "2022-08-14T05:22:26.112Z"
   },
   {
    "duration": 22,
    "start_time": "2022-08-14T05:22:39.334Z"
   },
   {
    "duration": 530,
    "start_time": "2022-08-14T05:23:00.592Z"
   },
   {
    "duration": 108,
    "start_time": "2022-08-14T05:23:01.123Z"
   },
   {
    "duration": 14,
    "start_time": "2022-08-14T05:23:01.233Z"
   },
   {
    "duration": 23,
    "start_time": "2022-08-14T05:23:01.429Z"
   },
   {
    "duration": 3,
    "start_time": "2022-08-14T05:23:03.800Z"
   },
   {
    "duration": 9,
    "start_time": "2022-08-14T05:23:04.734Z"
   },
   {
    "duration": 3,
    "start_time": "2022-08-14T05:23:05.438Z"
   },
   {
    "duration": 18,
    "start_time": "2022-08-14T05:23:08.273Z"
   },
   {
    "duration": 23,
    "start_time": "2022-08-14T05:24:22.682Z"
   },
   {
    "duration": 23,
    "start_time": "2022-08-14T05:24:25.332Z"
   },
   {
    "duration": 30,
    "start_time": "2022-08-14T05:24:29.431Z"
   },
   {
    "duration": 54,
    "start_time": "2022-08-14T05:24:32.522Z"
   },
   {
    "duration": 39,
    "start_time": "2022-08-14T05:24:40.805Z"
   },
   {
    "duration": 24,
    "start_time": "2022-08-14T05:24:47.720Z"
   },
   {
    "duration": 518,
    "start_time": "2022-08-14T05:25:52.477Z"
   },
   {
    "duration": 158,
    "start_time": "2022-08-14T05:25:52.997Z"
   },
   {
    "duration": 8,
    "start_time": "2022-08-14T05:25:53.157Z"
   },
   {
    "duration": 25,
    "start_time": "2022-08-14T05:25:53.313Z"
   },
   {
    "duration": 4,
    "start_time": "2022-08-14T05:25:54.511Z"
   },
   {
    "duration": 11,
    "start_time": "2022-08-14T05:25:55.382Z"
   },
   {
    "duration": 5,
    "start_time": "2022-08-14T05:25:55.817Z"
   },
   {
    "duration": 31,
    "start_time": "2022-08-14T05:25:57.216Z"
   },
   {
    "duration": 22,
    "start_time": "2022-08-14T05:26:02.596Z"
   },
   {
    "duration": 33,
    "start_time": "2022-08-14T05:26:07.159Z"
   },
   {
    "duration": 52,
    "start_time": "2022-08-14T05:26:10.727Z"
   },
   {
    "duration": 62,
    "start_time": "2022-08-14T05:28:45.318Z"
   },
   {
    "duration": 10,
    "start_time": "2022-08-14T05:28:47.867Z"
   },
   {
    "duration": 58,
    "start_time": "2022-08-14T05:28:54.445Z"
   },
   {
    "duration": 54,
    "start_time": "2022-08-14T05:29:19.020Z"
   },
   {
    "duration": 9,
    "start_time": "2022-08-14T05:29:21.371Z"
   },
   {
    "duration": 47,
    "start_time": "2022-08-14T05:29:31.975Z"
   },
   {
    "duration": 33,
    "start_time": "2022-08-14T05:30:00.088Z"
   },
   {
    "duration": 26,
    "start_time": "2022-08-14T06:22:05.148Z"
   },
   {
    "duration": 458,
    "start_time": "2022-08-14T06:23:58.043Z"
   },
   {
    "duration": 105,
    "start_time": "2022-08-14T06:23:59.461Z"
   },
   {
    "duration": 10,
    "start_time": "2022-08-14T06:24:00.175Z"
   },
   {
    "duration": 21,
    "start_time": "2022-08-14T06:24:00.443Z"
   },
   {
    "duration": 4,
    "start_time": "2022-08-14T06:24:01.903Z"
   },
   {
    "duration": 10,
    "start_time": "2022-08-14T06:24:02.483Z"
   },
   {
    "duration": 4,
    "start_time": "2022-08-14T06:24:03.083Z"
   },
   {
    "duration": 24,
    "start_time": "2022-08-14T06:24:03.944Z"
   },
   {
    "duration": 23,
    "start_time": "2022-08-14T06:24:05.843Z"
   },
   {
    "duration": 18,
    "start_time": "2022-08-14T06:24:07.569Z"
   },
   {
    "duration": 54,
    "start_time": "2022-08-14T06:24:09.494Z"
   },
   {
    "duration": 62,
    "start_time": "2022-08-14T06:24:12.139Z"
   },
   {
    "duration": 11,
    "start_time": "2022-08-14T06:24:14.000Z"
   },
   {
    "duration": 56,
    "start_time": "2022-08-14T06:24:14.909Z"
   },
   {
    "duration": 33,
    "start_time": "2022-08-14T06:24:18.683Z"
   },
   {
    "duration": 22,
    "start_time": "2022-08-14T06:24:22.843Z"
   },
   {
    "duration": 79,
    "start_time": "2022-08-14T06:24:50.827Z"
   },
   {
    "duration": 20,
    "start_time": "2022-08-14T06:24:56.999Z"
   },
   {
    "duration": 33,
    "start_time": "2022-08-14T06:25:13.508Z"
   },
   {
    "duration": 31,
    "start_time": "2022-08-14T06:25:29.985Z"
   },
   {
    "duration": 21,
    "start_time": "2022-08-14T06:28:03.457Z"
   },
   {
    "duration": 32,
    "start_time": "2022-08-14T06:28:23.002Z"
   },
   {
    "duration": 74,
    "start_time": "2022-08-14T06:29:36.093Z"
   },
   {
    "duration": 66,
    "start_time": "2022-08-14T06:29:39.926Z"
   },
   {
    "duration": 11,
    "start_time": "2022-08-14T06:29:48.151Z"
   },
   {
    "duration": 10,
    "start_time": "2022-08-14T06:30:47.355Z"
   },
   {
    "duration": 7,
    "start_time": "2022-08-14T06:44:16.703Z"
   },
   {
    "duration": 3,
    "start_time": "2022-08-14T06:46:12.034Z"
   },
   {
    "duration": 6,
    "start_time": "2022-08-14T06:46:13.975Z"
   },
   {
    "duration": 533,
    "start_time": "2022-08-14T06:46:25.693Z"
   },
   {
    "duration": 101,
    "start_time": "2022-08-14T06:46:26.228Z"
   },
   {
    "duration": 8,
    "start_time": "2022-08-14T06:46:26.330Z"
   },
   {
    "duration": 22,
    "start_time": "2022-08-14T06:46:26.525Z"
   },
   {
    "duration": 3,
    "start_time": "2022-08-14T06:46:27.194Z"
   },
   {
    "duration": 10,
    "start_time": "2022-08-14T06:46:27.442Z"
   },
   {
    "duration": 3,
    "start_time": "2022-08-14T06:46:27.693Z"
   },
   {
    "duration": 20,
    "start_time": "2022-08-14T06:46:28.027Z"
   },
   {
    "duration": 23,
    "start_time": "2022-08-14T06:46:28.444Z"
   },
   {
    "duration": 18,
    "start_time": "2022-08-14T06:46:28.690Z"
   },
   {
    "duration": 52,
    "start_time": "2022-08-14T06:46:29.033Z"
   },
   {
    "duration": 66,
    "start_time": "2022-08-14T06:46:29.358Z"
   },
   {
    "duration": 9,
    "start_time": "2022-08-14T06:46:29.525Z"
   },
   {
    "duration": 52,
    "start_time": "2022-08-14T06:46:29.698Z"
   },
   {
    "duration": 34,
    "start_time": "2022-08-14T06:46:30.025Z"
   },
   {
    "duration": 2,
    "start_time": "2022-08-14T06:46:31.808Z"
   },
   {
    "duration": 19,
    "start_time": "2022-08-14T06:46:33.275Z"
   },
   {
    "duration": 32,
    "start_time": "2022-08-14T06:46:34.779Z"
   },
   {
    "duration": 11,
    "start_time": "2022-08-14T06:46:40.278Z"
   },
   {
    "duration": 9,
    "start_time": "2022-08-14T06:46:48.105Z"
   },
   {
    "duration": 10,
    "start_time": "2022-08-14T06:46:50.815Z"
   },
   {
    "duration": 2,
    "start_time": "2022-08-14T06:46:53.559Z"
   },
   {
    "duration": 14,
    "start_time": "2022-08-14T06:46:58.916Z"
   },
   {
    "duration": 12,
    "start_time": "2022-08-14T06:46:59.396Z"
   },
   {
    "duration": 13,
    "start_time": "2022-08-14T06:46:59.598Z"
   },
   {
    "duration": 12,
    "start_time": "2022-08-14T06:46:59.750Z"
   },
   {
    "duration": 13,
    "start_time": "2022-08-14T06:46:59.906Z"
   },
   {
    "duration": 11,
    "start_time": "2022-08-14T06:47:00.054Z"
   },
   {
    "duration": 8,
    "start_time": "2022-08-14T06:47:01.222Z"
   },
   {
    "duration": 9,
    "start_time": "2022-08-14T06:47:03.832Z"
   },
   {
    "duration": 8,
    "start_time": "2022-08-14T06:47:04.612Z"
   },
   {
    "duration": 10,
    "start_time": "2022-08-14T06:47:05.462Z"
   },
   {
    "duration": 4,
    "start_time": "2022-08-14T06:47:44.885Z"
   },
   {
    "duration": 19,
    "start_time": "2022-08-14T06:47:47.732Z"
   },
   {
    "duration": 3,
    "start_time": "2022-08-14T06:49:07.844Z"
   },
   {
    "duration": 17,
    "start_time": "2022-08-14T06:49:10.207Z"
   },
   {
    "duration": 13,
    "start_time": "2022-08-14T06:49:31.198Z"
   },
   {
    "duration": 10,
    "start_time": "2022-08-14T06:49:31.596Z"
   },
   {
    "duration": 14,
    "start_time": "2022-08-14T06:49:32.306Z"
   },
   {
    "duration": 10,
    "start_time": "2022-08-14T06:49:32.941Z"
   },
   {
    "duration": 905,
    "start_time": "2022-08-14T12:51:37.409Z"
   },
   {
    "duration": 155,
    "start_time": "2022-08-14T12:51:38.316Z"
   },
   {
    "duration": 11,
    "start_time": "2022-08-14T12:51:38.473Z"
   },
   {
    "duration": 39,
    "start_time": "2022-08-14T12:51:38.486Z"
   },
   {
    "duration": 7,
    "start_time": "2022-08-14T12:51:38.527Z"
   },
   {
    "duration": 19,
    "start_time": "2022-08-14T12:51:38.536Z"
   },
   {
    "duration": 9,
    "start_time": "2022-08-14T12:51:38.557Z"
   },
   {
    "duration": 61,
    "start_time": "2022-08-14T12:51:38.568Z"
   },
   {
    "duration": 30,
    "start_time": "2022-08-14T12:51:38.631Z"
   },
   {
    "duration": 43,
    "start_time": "2022-08-14T12:51:38.666Z"
   },
   {
    "duration": 65,
    "start_time": "2022-08-14T12:51:38.711Z"
   },
   {
    "duration": 80,
    "start_time": "2022-08-14T12:51:38.791Z"
   },
   {
    "duration": 20,
    "start_time": "2022-08-14T12:51:38.873Z"
   },
   {
    "duration": 69,
    "start_time": "2022-08-14T12:51:38.895Z"
   },
   {
    "duration": 52,
    "start_time": "2022-08-14T12:51:38.966Z"
   },
   {
    "duration": 3,
    "start_time": "2022-08-14T12:51:39.019Z"
   },
   {
    "duration": 31,
    "start_time": "2022-08-14T12:51:39.024Z"
   },
   {
    "duration": 49,
    "start_time": "2022-08-14T12:51:39.058Z"
   },
   {
    "duration": 12,
    "start_time": "2022-08-14T12:51:39.108Z"
   },
   {
    "duration": 27,
    "start_time": "2022-08-14T12:51:39.122Z"
   },
   {
    "duration": 4,
    "start_time": "2022-08-14T12:51:39.153Z"
   },
   {
    "duration": 32,
    "start_time": "2022-08-14T12:51:39.159Z"
   },
   {
    "duration": 14,
    "start_time": "2022-08-14T12:51:39.193Z"
   },
   {
    "duration": 24,
    "start_time": "2022-08-14T12:51:39.209Z"
   },
   {
    "duration": 26,
    "start_time": "2022-08-14T12:51:39.234Z"
   },
   {
    "duration": 31,
    "start_time": "2022-08-14T12:51:39.262Z"
   },
   {
    "duration": 15,
    "start_time": "2022-08-14T12:51:39.295Z"
   },
   {
    "duration": 9,
    "start_time": "2022-08-14T12:51:39.313Z"
   },
   {
    "duration": 31,
    "start_time": "2022-08-14T12:51:39.323Z"
   },
   {
    "duration": 24,
    "start_time": "2022-08-14T12:51:39.356Z"
   },
   {
    "duration": 30,
    "start_time": "2022-08-14T12:51:39.382Z"
   },
   {
    "duration": 33,
    "start_time": "2022-08-14T12:51:39.414Z"
   },
   {
    "duration": 29,
    "start_time": "2022-08-14T12:51:39.449Z"
   },
   {
    "duration": 15,
    "start_time": "2022-08-14T12:51:39.479Z"
   },
   {
    "duration": 24,
    "start_time": "2022-08-14T12:51:39.496Z"
   },
   {
    "duration": 25,
    "start_time": "2022-08-14T12:51:39.522Z"
   },
   {
    "duration": 44,
    "start_time": "2022-08-14T12:51:39.549Z"
   },
   {
    "duration": 12,
    "start_time": "2022-08-14T12:51:39.595Z"
   },
   {
    "duration": 17,
    "start_time": "2022-08-14T12:51:39.609Z"
   },
   {
    "duration": 14,
    "start_time": "2022-08-14T12:51:39.628Z"
   },
   {
    "duration": 12,
    "start_time": "2022-08-14T12:51:59.569Z"
   },
   {
    "duration": 27,
    "start_time": "2022-08-14T12:52:09.103Z"
   },
   {
    "duration": 28,
    "start_time": "2022-08-14T12:52:29.356Z"
   },
   {
    "duration": 179,
    "start_time": "2022-08-14T12:52:58.467Z"
   },
   {
    "duration": 140,
    "start_time": "2022-08-14T12:52:59.587Z"
   },
   {
    "duration": 12,
    "start_time": "2022-08-14T12:53:00.778Z"
   },
   {
    "duration": 35,
    "start_time": "2022-08-14T12:53:01.709Z"
   },
   {
    "duration": 4,
    "start_time": "2022-08-14T12:53:04.610Z"
   },
   {
    "duration": 6,
    "start_time": "2022-08-14T12:53:05.490Z"
   },
   {
    "duration": 5,
    "start_time": "2022-08-14T12:53:06.836Z"
   },
   {
    "duration": 28,
    "start_time": "2022-08-14T12:53:08.208Z"
   },
   {
    "duration": 48,
    "start_time": "2022-08-14T12:53:13.878Z"
   }
  ],
  "colab": {
   "collapsed_sections": [
    "E0vqbgi9ay0H",
    "VUC88oWjTJw2",
    "atZAxtq4_Zcu"
   ],
   "name": "EmptyFinalProject.ipynb\"",
   "provenance": []
  },
  "kernelspec": {
   "display_name": "Python 3 (ipykernel)",
   "language": "python",
   "name": "python3"
  },
  "language_info": {
   "codemirror_mode": {
    "name": "ipython",
    "version": 3
   },
   "file_extension": ".py",
   "mimetype": "text/x-python",
   "name": "python",
   "nbconvert_exporter": "python",
   "pygments_lexer": "ipython3",
   "version": "3.12.3"
  },
  "toc": {
   "base_numbering": 1,
   "nav_menu": {},
   "number_sections": true,
   "sideBar": true,
   "skip_h1_title": true,
   "title_cell": "Table of Contents",
   "title_sidebar": "Contents",
   "toc_cell": false,
   "toc_position": {},
   "toc_section_display": true,
   "toc_window_display": false
  }
 },
 "nbformat": 4,
 "nbformat_minor": 4
}
